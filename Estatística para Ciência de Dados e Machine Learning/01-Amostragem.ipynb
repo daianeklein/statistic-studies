{
 "cells": [
  {
   "cell_type": "markdown",
   "id": "cda3ca09",
   "metadata": {},
   "source": [
    "# AMOSTRAGEM"
   ]
  },
  {
   "cell_type": "code",
   "execution_count": 1,
   "id": "e0e07890",
   "metadata": {
    "ExecuteTime": {
     "end_time": "2022-07-05T11:57:12.224629Z",
     "start_time": "2022-07-05T11:57:10.180466Z"
    }
   },
   "outputs": [],
   "source": [
    "import pandas as pd\n",
    "import random\n",
    "import numpy as np\n",
    "\n",
    "from sklearn.model_selection import StratifiedShuffleSplit"
   ]
  },
  {
   "cell_type": "code",
   "execution_count": 2,
   "id": "0e4dad23",
   "metadata": {
    "ExecuteTime": {
     "end_time": "2022-07-05T11:57:12.343655Z",
     "start_time": "2022-07-05T11:57:12.228864Z"
    }
   },
   "outputs": [
    {
     "data": {
      "text/html": [
       "<div>\n",
       "<style scoped>\n",
       "    .dataframe tbody tr th:only-of-type {\n",
       "        vertical-align: middle;\n",
       "    }\n",
       "\n",
       "    .dataframe tbody tr th {\n",
       "        vertical-align: top;\n",
       "    }\n",
       "\n",
       "    .dataframe thead th {\n",
       "        text-align: right;\n",
       "    }\n",
       "</style>\n",
       "<table border=\"1\" class=\"dataframe\">\n",
       "  <thead>\n",
       "    <tr style=\"text-align: right;\">\n",
       "      <th></th>\n",
       "      <th>age</th>\n",
       "      <th>workclass</th>\n",
       "      <th>final-weight</th>\n",
       "      <th>education</th>\n",
       "      <th>education-num</th>\n",
       "      <th>marital-status</th>\n",
       "      <th>occupation</th>\n",
       "      <th>relationship</th>\n",
       "      <th>race</th>\n",
       "      <th>sex</th>\n",
       "      <th>capital-gain</th>\n",
       "      <th>capital-loos</th>\n",
       "      <th>hour-per-week</th>\n",
       "      <th>native-country</th>\n",
       "      <th>income</th>\n",
       "    </tr>\n",
       "  </thead>\n",
       "  <tbody>\n",
       "    <tr>\n",
       "      <th>0</th>\n",
       "      <td>39</td>\n",
       "      <td>State-gov</td>\n",
       "      <td>77516</td>\n",
       "      <td>Bachelors</td>\n",
       "      <td>13</td>\n",
       "      <td>Never-married</td>\n",
       "      <td>Adm-clerical</td>\n",
       "      <td>Not-in-family</td>\n",
       "      <td>White</td>\n",
       "      <td>Male</td>\n",
       "      <td>2174</td>\n",
       "      <td>0</td>\n",
       "      <td>40</td>\n",
       "      <td>United-States</td>\n",
       "      <td>&lt;=50K</td>\n",
       "    </tr>\n",
       "    <tr>\n",
       "      <th>1</th>\n",
       "      <td>50</td>\n",
       "      <td>Self-emp-not-inc</td>\n",
       "      <td>83311</td>\n",
       "      <td>Bachelors</td>\n",
       "      <td>13</td>\n",
       "      <td>Married-civ-spouse</td>\n",
       "      <td>Exec-managerial</td>\n",
       "      <td>Husband</td>\n",
       "      <td>White</td>\n",
       "      <td>Male</td>\n",
       "      <td>0</td>\n",
       "      <td>0</td>\n",
       "      <td>13</td>\n",
       "      <td>United-States</td>\n",
       "      <td>&lt;=50K</td>\n",
       "    </tr>\n",
       "    <tr>\n",
       "      <th>2</th>\n",
       "      <td>38</td>\n",
       "      <td>Private</td>\n",
       "      <td>215646</td>\n",
       "      <td>HS-grad</td>\n",
       "      <td>9</td>\n",
       "      <td>Divorced</td>\n",
       "      <td>Handlers-cleaners</td>\n",
       "      <td>Not-in-family</td>\n",
       "      <td>White</td>\n",
       "      <td>Male</td>\n",
       "      <td>0</td>\n",
       "      <td>0</td>\n",
       "      <td>40</td>\n",
       "      <td>United-States</td>\n",
       "      <td>&lt;=50K</td>\n",
       "    </tr>\n",
       "    <tr>\n",
       "      <th>3</th>\n",
       "      <td>53</td>\n",
       "      <td>Private</td>\n",
       "      <td>234721</td>\n",
       "      <td>11th</td>\n",
       "      <td>7</td>\n",
       "      <td>Married-civ-spouse</td>\n",
       "      <td>Handlers-cleaners</td>\n",
       "      <td>Husband</td>\n",
       "      <td>Black</td>\n",
       "      <td>Male</td>\n",
       "      <td>0</td>\n",
       "      <td>0</td>\n",
       "      <td>40</td>\n",
       "      <td>United-States</td>\n",
       "      <td>&lt;=50K</td>\n",
       "    </tr>\n",
       "    <tr>\n",
       "      <th>4</th>\n",
       "      <td>28</td>\n",
       "      <td>Private</td>\n",
       "      <td>338409</td>\n",
       "      <td>Bachelors</td>\n",
       "      <td>13</td>\n",
       "      <td>Married-civ-spouse</td>\n",
       "      <td>Prof-specialty</td>\n",
       "      <td>Wife</td>\n",
       "      <td>Black</td>\n",
       "      <td>Female</td>\n",
       "      <td>0</td>\n",
       "      <td>0</td>\n",
       "      <td>40</td>\n",
       "      <td>Cuba</td>\n",
       "      <td>&lt;=50K</td>\n",
       "    </tr>\n",
       "  </tbody>\n",
       "</table>\n",
       "</div>"
      ],
      "text/plain": [
       "   age          workclass  final-weight   education  education-num  \\\n",
       "0   39          State-gov         77516   Bachelors             13   \n",
       "1   50   Self-emp-not-inc         83311   Bachelors             13   \n",
       "2   38            Private        215646     HS-grad              9   \n",
       "3   53            Private        234721        11th              7   \n",
       "4   28            Private        338409   Bachelors             13   \n",
       "\n",
       "        marital-status          occupation    relationship    race      sex  \\\n",
       "0        Never-married        Adm-clerical   Not-in-family   White     Male   \n",
       "1   Married-civ-spouse     Exec-managerial         Husband   White     Male   \n",
       "2             Divorced   Handlers-cleaners   Not-in-family   White     Male   \n",
       "3   Married-civ-spouse   Handlers-cleaners         Husband   Black     Male   \n",
       "4   Married-civ-spouse      Prof-specialty            Wife   Black   Female   \n",
       "\n",
       "   capital-gain  capital-loos  hour-per-week  native-country  income  \n",
       "0          2174             0             40   United-States   <=50K  \n",
       "1             0             0             13   United-States   <=50K  \n",
       "2             0             0             40   United-States   <=50K  \n",
       "3             0             0             40   United-States   <=50K  \n",
       "4             0             0             40            Cuba   <=50K  "
      ]
     },
     "execution_count": 2,
     "metadata": {},
     "output_type": "execute_result"
    }
   ],
   "source": [
    "df = pd.read_csv('Bases/census.csv')\n",
    "df.head()"
   ]
  },
  {
   "cell_type": "markdown",
   "id": "14b7ea23",
   "metadata": {},
   "source": [
    "## Amostragem Aleatória Simples"
   ]
  },
  {
   "cell_type": "code",
   "execution_count": 3,
   "id": "8dece6b3",
   "metadata": {
    "ExecuteTime": {
     "end_time": "2022-07-05T11:57:12.357463Z",
     "start_time": "2022-07-05T11:57:12.351449Z"
    }
   },
   "outputs": [],
   "source": [
    "df_amostra_simples = df.sample(n = 100)"
   ]
  },
  {
   "cell_type": "code",
   "execution_count": 4,
   "id": "a2ae8307",
   "metadata": {
    "ExecuteTime": {
     "end_time": "2022-07-05T11:57:12.371495Z",
     "start_time": "2022-07-05T11:57:12.364688Z"
    }
   },
   "outputs": [
    {
     "data": {
      "text/plain": [
       "(100, 15)"
      ]
     },
     "execution_count": 4,
     "metadata": {},
     "output_type": "execute_result"
    }
   ],
   "source": [
    "df_amostra_simples.shape"
   ]
  },
  {
   "cell_type": "code",
   "execution_count": 5,
   "id": "f54f2281",
   "metadata": {
    "ExecuteTime": {
     "end_time": "2022-07-05T11:57:12.415811Z",
     "start_time": "2022-07-05T11:57:12.374952Z"
    }
   },
   "outputs": [
    {
     "data": {
      "text/html": [
       "<div>\n",
       "<style scoped>\n",
       "    .dataframe tbody tr th:only-of-type {\n",
       "        vertical-align: middle;\n",
       "    }\n",
       "\n",
       "    .dataframe tbody tr th {\n",
       "        vertical-align: top;\n",
       "    }\n",
       "\n",
       "    .dataframe thead th {\n",
       "        text-align: right;\n",
       "    }\n",
       "</style>\n",
       "<table border=\"1\" class=\"dataframe\">\n",
       "  <thead>\n",
       "    <tr style=\"text-align: right;\">\n",
       "      <th></th>\n",
       "      <th>age</th>\n",
       "      <th>workclass</th>\n",
       "      <th>final-weight</th>\n",
       "      <th>education</th>\n",
       "      <th>education-num</th>\n",
       "      <th>marital-status</th>\n",
       "      <th>occupation</th>\n",
       "      <th>relationship</th>\n",
       "      <th>race</th>\n",
       "      <th>sex</th>\n",
       "      <th>capital-gain</th>\n",
       "      <th>capital-loos</th>\n",
       "      <th>hour-per-week</th>\n",
       "      <th>native-country</th>\n",
       "      <th>income</th>\n",
       "    </tr>\n",
       "  </thead>\n",
       "  <tbody>\n",
       "    <tr>\n",
       "      <th>16989</th>\n",
       "      <td>50</td>\n",
       "      <td>Private</td>\n",
       "      <td>104501</td>\n",
       "      <td>Masters</td>\n",
       "      <td>14</td>\n",
       "      <td>Married-civ-spouse</td>\n",
       "      <td>Prof-specialty</td>\n",
       "      <td>Husband</td>\n",
       "      <td>White</td>\n",
       "      <td>Male</td>\n",
       "      <td>0</td>\n",
       "      <td>0</td>\n",
       "      <td>40</td>\n",
       "      <td>United-States</td>\n",
       "      <td>&gt;50K</td>\n",
       "    </tr>\n",
       "    <tr>\n",
       "      <th>604</th>\n",
       "      <td>35</td>\n",
       "      <td>Self-emp-not-inc</td>\n",
       "      <td>194404</td>\n",
       "      <td>Assoc-acdm</td>\n",
       "      <td>12</td>\n",
       "      <td>Never-married</td>\n",
       "      <td>Farming-fishing</td>\n",
       "      <td>Not-in-family</td>\n",
       "      <td>White</td>\n",
       "      <td>Male</td>\n",
       "      <td>0</td>\n",
       "      <td>0</td>\n",
       "      <td>40</td>\n",
       "      <td>United-States</td>\n",
       "      <td>&lt;=50K</td>\n",
       "    </tr>\n",
       "    <tr>\n",
       "      <th>9715</th>\n",
       "      <td>24</td>\n",
       "      <td>Private</td>\n",
       "      <td>585203</td>\n",
       "      <td>Bachelors</td>\n",
       "      <td>13</td>\n",
       "      <td>Married-civ-spouse</td>\n",
       "      <td>Exec-managerial</td>\n",
       "      <td>Wife</td>\n",
       "      <td>White</td>\n",
       "      <td>Female</td>\n",
       "      <td>7688</td>\n",
       "      <td>0</td>\n",
       "      <td>45</td>\n",
       "      <td>United-States</td>\n",
       "      <td>&gt;50K</td>\n",
       "    </tr>\n",
       "    <tr>\n",
       "      <th>21701</th>\n",
       "      <td>26</td>\n",
       "      <td>Private</td>\n",
       "      <td>391349</td>\n",
       "      <td>Bachelors</td>\n",
       "      <td>13</td>\n",
       "      <td>Married-civ-spouse</td>\n",
       "      <td>Adm-clerical</td>\n",
       "      <td>Wife</td>\n",
       "      <td>White</td>\n",
       "      <td>Female</td>\n",
       "      <td>0</td>\n",
       "      <td>0</td>\n",
       "      <td>40</td>\n",
       "      <td>United-States</td>\n",
       "      <td>&gt;50K</td>\n",
       "    </tr>\n",
       "    <tr>\n",
       "      <th>29099</th>\n",
       "      <td>22</td>\n",
       "      <td>Private</td>\n",
       "      <td>300871</td>\n",
       "      <td>Some-college</td>\n",
       "      <td>10</td>\n",
       "      <td>Married-civ-spouse</td>\n",
       "      <td>Tech-support</td>\n",
       "      <td>Husband</td>\n",
       "      <td>White</td>\n",
       "      <td>Male</td>\n",
       "      <td>0</td>\n",
       "      <td>0</td>\n",
       "      <td>40</td>\n",
       "      <td>United-States</td>\n",
       "      <td>&lt;=50K</td>\n",
       "    </tr>\n",
       "  </tbody>\n",
       "</table>\n",
       "</div>"
      ],
      "text/plain": [
       "       age          workclass  final-weight      education  education-num  \\\n",
       "16989   50            Private        104501        Masters             14   \n",
       "604     35   Self-emp-not-inc        194404     Assoc-acdm             12   \n",
       "9715    24            Private        585203      Bachelors             13   \n",
       "21701   26            Private        391349      Bachelors             13   \n",
       "29099   22            Private        300871   Some-college             10   \n",
       "\n",
       "            marital-status        occupation    relationship    race      sex  \\\n",
       "16989   Married-civ-spouse    Prof-specialty         Husband   White     Male   \n",
       "604          Never-married   Farming-fishing   Not-in-family   White     Male   \n",
       "9715    Married-civ-spouse   Exec-managerial            Wife   White   Female   \n",
       "21701   Married-civ-spouse      Adm-clerical            Wife   White   Female   \n",
       "29099   Married-civ-spouse      Tech-support         Husband   White     Male   \n",
       "\n",
       "       capital-gain  capital-loos  hour-per-week  native-country  income  \n",
       "16989             0             0             40   United-States    >50K  \n",
       "604               0             0             40   United-States   <=50K  \n",
       "9715           7688             0             45   United-States    >50K  \n",
       "21701             0             0             40   United-States    >50K  \n",
       "29099             0             0             40   United-States   <=50K  "
      ]
     },
     "execution_count": 5,
     "metadata": {},
     "output_type": "execute_result"
    }
   ],
   "source": [
    "df_amostra_simples.head()"
   ]
  },
  {
   "cell_type": "markdown",
   "id": "fbfd2c9a",
   "metadata": {},
   "source": [
    "## Amostragem Sistemática"
   ]
  },
  {
   "cell_type": "code",
   "execution_count": 6,
   "id": "674602b4",
   "metadata": {
    "ExecuteTime": {
     "end_time": "2022-07-05T11:57:12.436910Z",
     "start_time": "2022-07-05T11:57:12.421298Z"
    }
   },
   "outputs": [
    {
     "data": {
      "text/plain": [
       "(32561, 15)"
      ]
     },
     "execution_count": 6,
     "metadata": {},
     "output_type": "execute_result"
    }
   ],
   "source": [
    "df.shape"
   ]
  },
  {
   "cell_type": "code",
   "execution_count": 7,
   "id": "26eb69d5",
   "metadata": {
    "ExecuteTime": {
     "end_time": "2022-07-05T11:57:12.458782Z",
     "start_time": "2022-07-05T11:57:12.444148Z"
    }
   },
   "outputs": [
    {
     "data": {
      "text/plain": [
       "325"
      ]
     },
     "execution_count": 7,
     "metadata": {},
     "output_type": "execute_result"
    }
   ],
   "source": [
    "# selecao de 100 amostras\n",
    "len(df) // 100 #será selecionado um valor entre 1 e 325 e depois \"pular\" de 325 em 325 posicoes"
   ]
  },
  {
   "cell_type": "code",
   "execution_count": 8,
   "id": "214e4c2a",
   "metadata": {
    "ExecuteTime": {
     "end_time": "2022-07-05T11:57:12.475057Z",
     "start_time": "2022-07-05T11:57:12.469042Z"
    }
   },
   "outputs": [
    {
     "data": {
      "text/plain": [
       "292"
      ]
     },
     "execution_count": 8,
     "metadata": {},
     "output_type": "execute_result"
    }
   ],
   "source": [
    "random.seed(10)\n",
    "random.randint(0, 325)"
   ]
  },
  {
   "cell_type": "code",
   "execution_count": 9,
   "id": "f6a2de6d",
   "metadata": {
    "ExecuteTime": {
     "end_time": "2022-07-05T11:57:12.487808Z",
     "start_time": "2022-07-05T11:57:12.479036Z"
    }
   },
   "outputs": [
    {
     "data": {
      "text/plain": [
       "array([   68,   393,   718,  1043,  1368,  1693,  2018,  2343,  2668,\n",
       "        2993,  3318,  3643,  3968,  4293,  4618,  4943,  5268,  5593,\n",
       "        5918,  6243,  6568,  6893,  7218,  7543,  7868,  8193,  8518,\n",
       "        8843,  9168,  9493,  9818, 10143, 10468, 10793, 11118, 11443,\n",
       "       11768, 12093, 12418, 12743, 13068, 13393, 13718, 14043, 14368,\n",
       "       14693, 15018, 15343, 15668, 15993, 16318, 16643, 16968, 17293,\n",
       "       17618, 17943, 18268, 18593, 18918, 19243, 19568, 19893, 20218,\n",
       "       20543, 20868, 21193, 21518, 21843, 22168, 22493, 22818, 23143,\n",
       "       23468, 23793, 24118, 24443, 24768, 25093, 25418, 25743, 26068,\n",
       "       26393, 26718, 27043, 27368, 27693, 28018, 28343, 28668, 28993,\n",
       "       29318, 29643, 29968, 30293, 30618, 30943, 31268, 31593, 31918,\n",
       "       32243])"
      ]
     },
     "execution_count": 9,
     "metadata": {},
     "output_type": "execute_result"
    }
   ],
   "source": [
    "np.arange(68, len(df), step = 325)"
   ]
  },
  {
   "cell_type": "code",
   "execution_count": 10,
   "id": "eec73c97",
   "metadata": {
    "ExecuteTime": {
     "end_time": "2022-07-05T11:57:12.503466Z",
     "start_time": "2022-07-05T11:57:12.497283Z"
    }
   },
   "outputs": [],
   "source": [
    "def amostragem_sistematica(dataset, amostras):\n",
    "    intervalo = len(dataset) // amostras\n",
    "    random.seed(1)\n",
    "    inicio = random.randint(0, intervalo)\n",
    "    indices = np.arange(inicio, len(dataset), step = intervalo)\n",
    "    amostra_sistematica = df.iloc[indices]\n",
    "    return amostra_sistematica"
   ]
  },
  {
   "cell_type": "code",
   "execution_count": 11,
   "id": "531024b2",
   "metadata": {
    "ExecuteTime": {
     "end_time": "2022-07-05T11:57:12.517297Z",
     "start_time": "2022-07-05T11:57:12.507853Z"
    }
   },
   "outputs": [
    {
     "data": {
      "text/plain": [
       "(100, 15)"
      ]
     },
     "execution_count": 11,
     "metadata": {},
     "output_type": "execute_result"
    }
   ],
   "source": [
    "df_amostra_sistematica = amostragem_sistematica(df, 100)\n",
    "df_amostra_sistematica.shape"
   ]
  },
  {
   "cell_type": "code",
   "execution_count": 12,
   "id": "d8e9887d",
   "metadata": {
    "ExecuteTime": {
     "end_time": "2022-07-05T11:57:12.550867Z",
     "start_time": "2022-07-05T11:57:12.521258Z"
    }
   },
   "outputs": [
    {
     "data": {
      "text/html": [
       "<div>\n",
       "<style scoped>\n",
       "    .dataframe tbody tr th:only-of-type {\n",
       "        vertical-align: middle;\n",
       "    }\n",
       "\n",
       "    .dataframe tbody tr th {\n",
       "        vertical-align: top;\n",
       "    }\n",
       "\n",
       "    .dataframe thead th {\n",
       "        text-align: right;\n",
       "    }\n",
       "</style>\n",
       "<table border=\"1\" class=\"dataframe\">\n",
       "  <thead>\n",
       "    <tr style=\"text-align: right;\">\n",
       "      <th></th>\n",
       "      <th>age</th>\n",
       "      <th>workclass</th>\n",
       "      <th>final-weight</th>\n",
       "      <th>education</th>\n",
       "      <th>education-num</th>\n",
       "      <th>marital-status</th>\n",
       "      <th>occupation</th>\n",
       "      <th>relationship</th>\n",
       "      <th>race</th>\n",
       "      <th>sex</th>\n",
       "      <th>capital-gain</th>\n",
       "      <th>capital-loos</th>\n",
       "      <th>hour-per-week</th>\n",
       "      <th>native-country</th>\n",
       "      <th>income</th>\n",
       "    </tr>\n",
       "  </thead>\n",
       "  <tbody>\n",
       "    <tr>\n",
       "      <th>68</th>\n",
       "      <td>49</td>\n",
       "      <td>Self-emp-inc</td>\n",
       "      <td>191681</td>\n",
       "      <td>Some-college</td>\n",
       "      <td>10</td>\n",
       "      <td>Married-civ-spouse</td>\n",
       "      <td>Exec-managerial</td>\n",
       "      <td>Husband</td>\n",
       "      <td>White</td>\n",
       "      <td>Male</td>\n",
       "      <td>0</td>\n",
       "      <td>0</td>\n",
       "      <td>50</td>\n",
       "      <td>United-States</td>\n",
       "      <td>&gt;50K</td>\n",
       "    </tr>\n",
       "    <tr>\n",
       "      <th>393</th>\n",
       "      <td>34</td>\n",
       "      <td>State-gov</td>\n",
       "      <td>98101</td>\n",
       "      <td>Bachelors</td>\n",
       "      <td>13</td>\n",
       "      <td>Married-civ-spouse</td>\n",
       "      <td>Exec-managerial</td>\n",
       "      <td>Husband</td>\n",
       "      <td>White</td>\n",
       "      <td>Male</td>\n",
       "      <td>7688</td>\n",
       "      <td>0</td>\n",
       "      <td>45</td>\n",
       "      <td>?</td>\n",
       "      <td>&gt;50K</td>\n",
       "    </tr>\n",
       "    <tr>\n",
       "      <th>718</th>\n",
       "      <td>22</td>\n",
       "      <td>Private</td>\n",
       "      <td>214399</td>\n",
       "      <td>Some-college</td>\n",
       "      <td>10</td>\n",
       "      <td>Never-married</td>\n",
       "      <td>Sales</td>\n",
       "      <td>Own-child</td>\n",
       "      <td>White</td>\n",
       "      <td>Female</td>\n",
       "      <td>0</td>\n",
       "      <td>0</td>\n",
       "      <td>15</td>\n",
       "      <td>United-States</td>\n",
       "      <td>&lt;=50K</td>\n",
       "    </tr>\n",
       "    <tr>\n",
       "      <th>1043</th>\n",
       "      <td>44</td>\n",
       "      <td>Private</td>\n",
       "      <td>167005</td>\n",
       "      <td>Bachelors</td>\n",
       "      <td>13</td>\n",
       "      <td>Married-civ-spouse</td>\n",
       "      <td>Exec-managerial</td>\n",
       "      <td>Husband</td>\n",
       "      <td>White</td>\n",
       "      <td>Male</td>\n",
       "      <td>7688</td>\n",
       "      <td>0</td>\n",
       "      <td>60</td>\n",
       "      <td>United-States</td>\n",
       "      <td>&gt;50K</td>\n",
       "    </tr>\n",
       "    <tr>\n",
       "      <th>1368</th>\n",
       "      <td>52</td>\n",
       "      <td>Private</td>\n",
       "      <td>152234</td>\n",
       "      <td>HS-grad</td>\n",
       "      <td>9</td>\n",
       "      <td>Married-civ-spouse</td>\n",
       "      <td>Exec-managerial</td>\n",
       "      <td>Husband</td>\n",
       "      <td>Asian-Pac-Islander</td>\n",
       "      <td>Male</td>\n",
       "      <td>99999</td>\n",
       "      <td>0</td>\n",
       "      <td>40</td>\n",
       "      <td>Japan</td>\n",
       "      <td>&gt;50K</td>\n",
       "    </tr>\n",
       "  </tbody>\n",
       "</table>\n",
       "</div>"
      ],
      "text/plain": [
       "      age      workclass  final-weight      education  education-num  \\\n",
       "68     49   Self-emp-inc        191681   Some-college             10   \n",
       "393    34      State-gov         98101      Bachelors             13   \n",
       "718    22        Private        214399   Some-college             10   \n",
       "1043   44        Private        167005      Bachelors             13   \n",
       "1368   52        Private        152234        HS-grad              9   \n",
       "\n",
       "           marital-status        occupation relationship                 race  \\\n",
       "68     Married-civ-spouse   Exec-managerial      Husband                White   \n",
       "393    Married-civ-spouse   Exec-managerial      Husband                White   \n",
       "718         Never-married             Sales    Own-child                White   \n",
       "1043   Married-civ-spouse   Exec-managerial      Husband                White   \n",
       "1368   Married-civ-spouse   Exec-managerial      Husband   Asian-Pac-Islander   \n",
       "\n",
       "          sex  capital-gain  capital-loos  hour-per-week  native-country  \\\n",
       "68       Male             0             0             50   United-States   \n",
       "393      Male          7688             0             45               ?   \n",
       "718    Female             0             0             15   United-States   \n",
       "1043     Male          7688             0             60   United-States   \n",
       "1368     Male         99999             0             40           Japan   \n",
       "\n",
       "      income  \n",
       "68      >50K  \n",
       "393     >50K  \n",
       "718    <=50K  \n",
       "1043    >50K  \n",
       "1368    >50K  "
      ]
     },
     "execution_count": 12,
     "metadata": {},
     "output_type": "execute_result"
    }
   ],
   "source": [
    "df_amostra_sistematica.head()"
   ]
  },
  {
   "cell_type": "markdown",
   "id": "61f89456",
   "metadata": {},
   "source": [
    "## Amostragem por Grupos"
   ]
  },
  {
   "cell_type": "code",
   "execution_count": 13,
   "id": "afd6de3f",
   "metadata": {
    "ExecuteTime": {
     "end_time": "2022-07-05T11:57:12.566843Z",
     "start_time": "2022-07-05T11:57:12.555911Z"
    }
   },
   "outputs": [
    {
     "data": {
      "text/plain": [
       "3256.1"
      ]
     },
     "execution_count": 13,
     "metadata": {},
     "output_type": "execute_result"
    }
   ],
   "source": [
    "len(df) / 10 # 10 grupos"
   ]
  },
  {
   "cell_type": "code",
   "execution_count": 14,
   "id": "c8aa5f30",
   "metadata": {
    "ExecuteTime": {
     "end_time": "2022-07-05T11:57:14.623584Z",
     "start_time": "2022-07-05T11:57:12.569792Z"
    }
   },
   "outputs": [],
   "source": [
    "grupos = []\n",
    "id_grupo = 0\n",
    "contagem = 0\n",
    "\n",
    "for _ in df.iterrows():\n",
    "    grupos.append(id_grupo)\n",
    "    contagem += 1\n",
    "    if contagem > 3256:\n",
    "        contagem = 0\n",
    "        id_grupo += 1"
   ]
  },
  {
   "cell_type": "code",
   "execution_count": 15,
   "id": "e896f33c",
   "metadata": {
    "ExecuteTime": {
     "end_time": "2022-07-05T11:57:14.639922Z",
     "start_time": "2022-07-05T11:57:14.625909Z"
    }
   },
   "outputs": [
    {
     "data": {
      "text/plain": [
       "array([0, 1, 2, 3, 4, 5, 6, 7, 8, 9])"
      ]
     },
     "execution_count": 15,
     "metadata": {},
     "output_type": "execute_result"
    }
   ],
   "source": [
    "np.unique(grupos)"
   ]
  },
  {
   "cell_type": "code",
   "execution_count": 16,
   "id": "66ff2a21",
   "metadata": {
    "ExecuteTime": {
     "end_time": "2022-07-05T11:57:14.659923Z",
     "start_time": "2022-07-05T11:57:14.642745Z"
    }
   },
   "outputs": [
    {
     "data": {
      "text/plain": [
       "(array([0, 1, 2, 3, 4, 5, 6, 7, 8, 9]),\n",
       " array([3257, 3257, 3257, 3257, 3257, 3257, 3257, 3257, 3257, 3248]))"
      ]
     },
     "execution_count": 16,
     "metadata": {},
     "output_type": "execute_result"
    }
   ],
   "source": [
    "np.unique(grupos, return_counts = True)"
   ]
  },
  {
   "cell_type": "code",
   "execution_count": 17,
   "id": "17f1c930",
   "metadata": {
    "ExecuteTime": {
     "end_time": "2022-07-05T11:57:14.693577Z",
     "start_time": "2022-07-05T11:57:14.668986Z"
    }
   },
   "outputs": [
    {
     "data": {
      "text/plain": [
       "((32561,), (32561, 15))"
      ]
     },
     "execution_count": 17,
     "metadata": {},
     "output_type": "execute_result"
    }
   ],
   "source": [
    "np.shape(grupos), df.shape"
   ]
  },
  {
   "cell_type": "code",
   "execution_count": 18,
   "id": "cfa8d11e",
   "metadata": {
    "ExecuteTime": {
     "end_time": "2022-07-05T11:57:14.722726Z",
     "start_time": "2022-07-05T11:57:14.698600Z"
    }
   },
   "outputs": [],
   "source": [
    "df['grupos'] = grupos"
   ]
  },
  {
   "cell_type": "code",
   "execution_count": 19,
   "id": "b34f8e19",
   "metadata": {
    "ExecuteTime": {
     "end_time": "2022-07-05T11:57:14.742500Z",
     "start_time": "2022-07-05T11:57:14.726507Z"
    }
   },
   "outputs": [
    {
     "data": {
      "text/plain": [
       "9"
      ]
     },
     "execution_count": 19,
     "metadata": {},
     "output_type": "execute_result"
    }
   ],
   "source": [
    "random.randint(0, 9)"
   ]
  },
  {
   "cell_type": "code",
   "execution_count": 20,
   "id": "2045dc62",
   "metadata": {
    "ExecuteTime": {
     "end_time": "2022-07-05T11:57:14.818351Z",
     "start_time": "2022-07-05T11:57:14.752383Z"
    }
   },
   "outputs": [
    {
     "data": {
      "text/html": [
       "<div>\n",
       "<style scoped>\n",
       "    .dataframe tbody tr th:only-of-type {\n",
       "        vertical-align: middle;\n",
       "    }\n",
       "\n",
       "    .dataframe tbody tr th {\n",
       "        vertical-align: top;\n",
       "    }\n",
       "\n",
       "    .dataframe thead th {\n",
       "        text-align: right;\n",
       "    }\n",
       "</style>\n",
       "<table border=\"1\" class=\"dataframe\">\n",
       "  <thead>\n",
       "    <tr style=\"text-align: right;\">\n",
       "      <th></th>\n",
       "      <th>age</th>\n",
       "      <th>workclass</th>\n",
       "      <th>final-weight</th>\n",
       "      <th>education</th>\n",
       "      <th>education-num</th>\n",
       "      <th>marital-status</th>\n",
       "      <th>occupation</th>\n",
       "      <th>relationship</th>\n",
       "      <th>race</th>\n",
       "      <th>sex</th>\n",
       "      <th>capital-gain</th>\n",
       "      <th>capital-loos</th>\n",
       "      <th>hour-per-week</th>\n",
       "      <th>native-country</th>\n",
       "      <th>income</th>\n",
       "      <th>grupos</th>\n",
       "    </tr>\n",
       "  </thead>\n",
       "  <tbody>\n",
       "    <tr>\n",
       "      <th>29313</th>\n",
       "      <td>45</td>\n",
       "      <td>Private</td>\n",
       "      <td>285060</td>\n",
       "      <td>Bachelors</td>\n",
       "      <td>13</td>\n",
       "      <td>Married-civ-spouse</td>\n",
       "      <td>Exec-managerial</td>\n",
       "      <td>Husband</td>\n",
       "      <td>White</td>\n",
       "      <td>Male</td>\n",
       "      <td>0</td>\n",
       "      <td>0</td>\n",
       "      <td>50</td>\n",
       "      <td>United-States</td>\n",
       "      <td>&gt;50K</td>\n",
       "      <td>9</td>\n",
       "    </tr>\n",
       "    <tr>\n",
       "      <th>29314</th>\n",
       "      <td>28</td>\n",
       "      <td>State-gov</td>\n",
       "      <td>189765</td>\n",
       "      <td>Some-college</td>\n",
       "      <td>10</td>\n",
       "      <td>Separated</td>\n",
       "      <td>Adm-clerical</td>\n",
       "      <td>Unmarried</td>\n",
       "      <td>White</td>\n",
       "      <td>Female</td>\n",
       "      <td>0</td>\n",
       "      <td>0</td>\n",
       "      <td>50</td>\n",
       "      <td>United-States</td>\n",
       "      <td>&lt;=50K</td>\n",
       "      <td>9</td>\n",
       "    </tr>\n",
       "    <tr>\n",
       "      <th>29315</th>\n",
       "      <td>23</td>\n",
       "      <td>Private</td>\n",
       "      <td>130905</td>\n",
       "      <td>Bachelors</td>\n",
       "      <td>13</td>\n",
       "      <td>Never-married</td>\n",
       "      <td>Sales</td>\n",
       "      <td>Own-child</td>\n",
       "      <td>White</td>\n",
       "      <td>Female</td>\n",
       "      <td>0</td>\n",
       "      <td>0</td>\n",
       "      <td>40</td>\n",
       "      <td>United-States</td>\n",
       "      <td>&lt;=50K</td>\n",
       "      <td>9</td>\n",
       "    </tr>\n",
       "    <tr>\n",
       "      <th>29316</th>\n",
       "      <td>50</td>\n",
       "      <td>Private</td>\n",
       "      <td>146325</td>\n",
       "      <td>HS-grad</td>\n",
       "      <td>9</td>\n",
       "      <td>Married-civ-spouse</td>\n",
       "      <td>Craft-repair</td>\n",
       "      <td>Husband</td>\n",
       "      <td>White</td>\n",
       "      <td>Male</td>\n",
       "      <td>0</td>\n",
       "      <td>0</td>\n",
       "      <td>44</td>\n",
       "      <td>United-States</td>\n",
       "      <td>&gt;50K</td>\n",
       "      <td>9</td>\n",
       "    </tr>\n",
       "    <tr>\n",
       "      <th>29317</th>\n",
       "      <td>33</td>\n",
       "      <td>Private</td>\n",
       "      <td>102821</td>\n",
       "      <td>12th</td>\n",
       "      <td>8</td>\n",
       "      <td>Married-civ-spouse</td>\n",
       "      <td>Protective-serv</td>\n",
       "      <td>Husband</td>\n",
       "      <td>White</td>\n",
       "      <td>Male</td>\n",
       "      <td>0</td>\n",
       "      <td>0</td>\n",
       "      <td>40</td>\n",
       "      <td>United-States</td>\n",
       "      <td>&lt;=50K</td>\n",
       "      <td>9</td>\n",
       "    </tr>\n",
       "    <tr>\n",
       "      <th>...</th>\n",
       "      <td>...</td>\n",
       "      <td>...</td>\n",
       "      <td>...</td>\n",
       "      <td>...</td>\n",
       "      <td>...</td>\n",
       "      <td>...</td>\n",
       "      <td>...</td>\n",
       "      <td>...</td>\n",
       "      <td>...</td>\n",
       "      <td>...</td>\n",
       "      <td>...</td>\n",
       "      <td>...</td>\n",
       "      <td>...</td>\n",
       "      <td>...</td>\n",
       "      <td>...</td>\n",
       "      <td>...</td>\n",
       "    </tr>\n",
       "    <tr>\n",
       "      <th>32556</th>\n",
       "      <td>27</td>\n",
       "      <td>Private</td>\n",
       "      <td>257302</td>\n",
       "      <td>Assoc-acdm</td>\n",
       "      <td>12</td>\n",
       "      <td>Married-civ-spouse</td>\n",
       "      <td>Tech-support</td>\n",
       "      <td>Wife</td>\n",
       "      <td>White</td>\n",
       "      <td>Female</td>\n",
       "      <td>0</td>\n",
       "      <td>0</td>\n",
       "      <td>38</td>\n",
       "      <td>United-States</td>\n",
       "      <td>&lt;=50K</td>\n",
       "      <td>9</td>\n",
       "    </tr>\n",
       "    <tr>\n",
       "      <th>32557</th>\n",
       "      <td>40</td>\n",
       "      <td>Private</td>\n",
       "      <td>154374</td>\n",
       "      <td>HS-grad</td>\n",
       "      <td>9</td>\n",
       "      <td>Married-civ-spouse</td>\n",
       "      <td>Machine-op-inspct</td>\n",
       "      <td>Husband</td>\n",
       "      <td>White</td>\n",
       "      <td>Male</td>\n",
       "      <td>0</td>\n",
       "      <td>0</td>\n",
       "      <td>40</td>\n",
       "      <td>United-States</td>\n",
       "      <td>&gt;50K</td>\n",
       "      <td>9</td>\n",
       "    </tr>\n",
       "    <tr>\n",
       "      <th>32558</th>\n",
       "      <td>58</td>\n",
       "      <td>Private</td>\n",
       "      <td>151910</td>\n",
       "      <td>HS-grad</td>\n",
       "      <td>9</td>\n",
       "      <td>Widowed</td>\n",
       "      <td>Adm-clerical</td>\n",
       "      <td>Unmarried</td>\n",
       "      <td>White</td>\n",
       "      <td>Female</td>\n",
       "      <td>0</td>\n",
       "      <td>0</td>\n",
       "      <td>40</td>\n",
       "      <td>United-States</td>\n",
       "      <td>&lt;=50K</td>\n",
       "      <td>9</td>\n",
       "    </tr>\n",
       "    <tr>\n",
       "      <th>32559</th>\n",
       "      <td>22</td>\n",
       "      <td>Private</td>\n",
       "      <td>201490</td>\n",
       "      <td>HS-grad</td>\n",
       "      <td>9</td>\n",
       "      <td>Never-married</td>\n",
       "      <td>Adm-clerical</td>\n",
       "      <td>Own-child</td>\n",
       "      <td>White</td>\n",
       "      <td>Male</td>\n",
       "      <td>0</td>\n",
       "      <td>0</td>\n",
       "      <td>20</td>\n",
       "      <td>United-States</td>\n",
       "      <td>&lt;=50K</td>\n",
       "      <td>9</td>\n",
       "    </tr>\n",
       "    <tr>\n",
       "      <th>32560</th>\n",
       "      <td>52</td>\n",
       "      <td>Self-emp-inc</td>\n",
       "      <td>287927</td>\n",
       "      <td>HS-grad</td>\n",
       "      <td>9</td>\n",
       "      <td>Married-civ-spouse</td>\n",
       "      <td>Exec-managerial</td>\n",
       "      <td>Wife</td>\n",
       "      <td>White</td>\n",
       "      <td>Female</td>\n",
       "      <td>15024</td>\n",
       "      <td>0</td>\n",
       "      <td>40</td>\n",
       "      <td>United-States</td>\n",
       "      <td>&gt;50K</td>\n",
       "      <td>9</td>\n",
       "    </tr>\n",
       "  </tbody>\n",
       "</table>\n",
       "<p>3248 rows × 16 columns</p>\n",
       "</div>"
      ],
      "text/plain": [
       "       age      workclass  final-weight      education  education-num  \\\n",
       "29313   45        Private        285060      Bachelors             13   \n",
       "29314   28      State-gov        189765   Some-college             10   \n",
       "29315   23        Private        130905      Bachelors             13   \n",
       "29316   50        Private        146325        HS-grad              9   \n",
       "29317   33        Private        102821           12th              8   \n",
       "...    ...            ...           ...            ...            ...   \n",
       "32556   27        Private        257302     Assoc-acdm             12   \n",
       "32557   40        Private        154374        HS-grad              9   \n",
       "32558   58        Private        151910        HS-grad              9   \n",
       "32559   22        Private        201490        HS-grad              9   \n",
       "32560   52   Self-emp-inc        287927        HS-grad              9   \n",
       "\n",
       "            marital-status          occupation relationship    race      sex  \\\n",
       "29313   Married-civ-spouse     Exec-managerial      Husband   White     Male   \n",
       "29314            Separated        Adm-clerical    Unmarried   White   Female   \n",
       "29315        Never-married               Sales    Own-child   White   Female   \n",
       "29316   Married-civ-spouse        Craft-repair      Husband   White     Male   \n",
       "29317   Married-civ-spouse     Protective-serv      Husband   White     Male   \n",
       "...                    ...                 ...          ...     ...      ...   \n",
       "32556   Married-civ-spouse        Tech-support         Wife   White   Female   \n",
       "32557   Married-civ-spouse   Machine-op-inspct      Husband   White     Male   \n",
       "32558              Widowed        Adm-clerical    Unmarried   White   Female   \n",
       "32559        Never-married        Adm-clerical    Own-child   White     Male   \n",
       "32560   Married-civ-spouse     Exec-managerial         Wife   White   Female   \n",
       "\n",
       "       capital-gain  capital-loos  hour-per-week  native-country  income  \\\n",
       "29313             0             0             50   United-States    >50K   \n",
       "29314             0             0             50   United-States   <=50K   \n",
       "29315             0             0             40   United-States   <=50K   \n",
       "29316             0             0             44   United-States    >50K   \n",
       "29317             0             0             40   United-States   <=50K   \n",
       "...             ...           ...            ...             ...     ...   \n",
       "32556             0             0             38   United-States   <=50K   \n",
       "32557             0             0             40   United-States    >50K   \n",
       "32558             0             0             40   United-States   <=50K   \n",
       "32559             0             0             20   United-States   <=50K   \n",
       "32560         15024             0             40   United-States    >50K   \n",
       "\n",
       "       grupos  \n",
       "29313       9  \n",
       "29314       9  \n",
       "29315       9  \n",
       "29316       9  \n",
       "29317       9  \n",
       "...       ...  \n",
       "32556       9  \n",
       "32557       9  \n",
       "32558       9  \n",
       "32559       9  \n",
       "32560       9  \n",
       "\n",
       "[3248 rows x 16 columns]"
      ]
     },
     "execution_count": 20,
     "metadata": {},
     "output_type": "execute_result"
    }
   ],
   "source": [
    "df_agrupamento = df[df['grupos'] == 9]\n",
    "df_agrupamento"
   ]
  },
  {
   "cell_type": "markdown",
   "id": "dccd64b2",
   "metadata": {},
   "source": [
    "## Amostragem Estratificada"
   ]
  },
  {
   "cell_type": "code",
   "execution_count": 21,
   "id": "4d54fa83",
   "metadata": {
    "ExecuteTime": {
     "end_time": "2022-07-05T11:57:14.842215Z",
     "start_time": "2022-07-05T11:57:14.823003Z"
    }
   },
   "outputs": [
    {
     "data": {
      "text/plain": [
       " <=50K    24720\n",
       " >50K      7841\n",
       "Name: income, dtype: int64"
      ]
     },
     "execution_count": 21,
     "metadata": {},
     "output_type": "execute_result"
    }
   ],
   "source": [
    "df['income'].value_counts()"
   ]
  },
  {
   "cell_type": "code",
   "execution_count": 22,
   "id": "8215e025",
   "metadata": {
    "ExecuteTime": {
     "end_time": "2022-07-05T11:57:14.859013Z",
     "start_time": "2022-07-05T11:57:14.851331Z"
    }
   },
   "outputs": [
    {
     "data": {
      "text/plain": [
       "(0.2408095574460244, 0.7591904425539756)"
      ]
     },
     "execution_count": 22,
     "metadata": {},
     "output_type": "execute_result"
    }
   ],
   "source": [
    "7841 / len(df), 24720 / len(df)"
   ]
  },
  {
   "cell_type": "code",
   "execution_count": 23,
   "id": "4eb2f0fb",
   "metadata": {
    "ExecuteTime": {
     "end_time": "2022-07-05T11:57:15.117329Z",
     "start_time": "2022-07-05T11:57:14.862018Z"
    }
   },
   "outputs": [],
   "source": [
    "split = StratifiedShuffleSplit(test_size = 0.1)\n",
    "\n",
    "for x, y in split.split(df, df['income']):\n",
    "    df_x = df.iloc[x]\n",
    "    df_y = df.iloc[y]\n",
    "    \n",
    "    "
   ]
  },
  {
   "cell_type": "code",
   "execution_count": 24,
   "id": "2610af94",
   "metadata": {
    "ExecuteTime": {
     "end_time": "2022-07-05T11:57:15.138932Z",
     "start_time": "2022-07-05T11:57:15.125143Z"
    }
   },
   "outputs": [
    {
     "data": {
      "text/plain": [
       "((29304, 16), (3257, 16))"
      ]
     },
     "execution_count": 24,
     "metadata": {},
     "output_type": "execute_result"
    }
   ],
   "source": [
    "df_x.shape, df_y.shape"
   ]
  },
  {
   "cell_type": "markdown",
   "id": "3372caac",
   "metadata": {},
   "source": [
    "## Amostragem de Reservatório"
   ]
  },
  {
   "cell_type": "code",
   "execution_count": 26,
   "id": "bbc98c76",
   "metadata": {
    "ExecuteTime": {
     "end_time": "2022-07-05T11:58:10.744344Z",
     "start_time": "2022-07-05T11:58:10.734694Z"
    }
   },
   "outputs": [],
   "source": [
    "stream = []\n",
    "\n",
    "for i in range(len(df)):\n",
    "    stream.append(i)"
   ]
  },
  {
   "cell_type": "code",
   "execution_count": 29,
   "id": "e727d24d",
   "metadata": {
    "ExecuteTime": {
     "end_time": "2022-07-05T11:58:33.264788Z",
     "start_time": "2022-07-05T11:58:33.259010Z"
    }
   },
   "outputs": [],
   "source": [
    "#print(stream)"
   ]
  },
  {
   "cell_type": "code",
   "execution_count": 37,
   "id": "b295b816",
   "metadata": {
    "ExecuteTime": {
     "end_time": "2022-07-05T12:09:14.259272Z",
     "start_time": "2022-07-05T12:09:14.252548Z"
    }
   },
   "outputs": [],
   "source": [
    "def amostragem_reservatorio(dataset, amostras):\n",
    "    stream = []\n",
    "\n",
    "    for i in range(len(df)):\n",
    "        stream.append(i)\n",
    "        \n",
    "    i = 0\n",
    "    tamanho = len(dataset)\n",
    "    \n",
    "    reservatorio = [0] * amostras\n",
    "    for i in range(amostras):\n",
    "        reservatorio[i] = stream[i]\n",
    "        \n",
    "    while i < tamanho:\n",
    "        j = random.randrange(i + 1)\n",
    "        if j < amostras:\n",
    "            reservatorio[j] = stream[i]\n",
    "        i += 1\n",
    "        \n",
    "    return dataset.iloc[reservatorio]"
   ]
  },
  {
   "cell_type": "code",
   "execution_count": 38,
   "id": "a640d84b",
   "metadata": {
    "ExecuteTime": {
     "end_time": "2022-07-05T12:09:14.588519Z",
     "start_time": "2022-07-05T12:09:14.521437Z"
    }
   },
   "outputs": [
    {
     "data": {
      "text/html": [
       "<div>\n",
       "<style scoped>\n",
       "    .dataframe tbody tr th:only-of-type {\n",
       "        vertical-align: middle;\n",
       "    }\n",
       "\n",
       "    .dataframe tbody tr th {\n",
       "        vertical-align: top;\n",
       "    }\n",
       "\n",
       "    .dataframe thead th {\n",
       "        text-align: right;\n",
       "    }\n",
       "</style>\n",
       "<table border=\"1\" class=\"dataframe\">\n",
       "  <thead>\n",
       "    <tr style=\"text-align: right;\">\n",
       "      <th></th>\n",
       "      <th>age</th>\n",
       "      <th>workclass</th>\n",
       "      <th>final-weight</th>\n",
       "      <th>education</th>\n",
       "      <th>education-num</th>\n",
       "      <th>marital-status</th>\n",
       "      <th>occupation</th>\n",
       "      <th>relationship</th>\n",
       "      <th>race</th>\n",
       "      <th>sex</th>\n",
       "      <th>capital-gain</th>\n",
       "      <th>capital-loos</th>\n",
       "      <th>hour-per-week</th>\n",
       "      <th>native-country</th>\n",
       "      <th>income</th>\n",
       "      <th>grupos</th>\n",
       "    </tr>\n",
       "  </thead>\n",
       "  <tbody>\n",
       "    <tr>\n",
       "      <th>12792</th>\n",
       "      <td>57</td>\n",
       "      <td>Private</td>\n",
       "      <td>231232</td>\n",
       "      <td>7th-8th</td>\n",
       "      <td>4</td>\n",
       "      <td>Married-civ-spouse</td>\n",
       "      <td>Craft-repair</td>\n",
       "      <td>Husband</td>\n",
       "      <td>White</td>\n",
       "      <td>Male</td>\n",
       "      <td>0</td>\n",
       "      <td>0</td>\n",
       "      <td>40</td>\n",
       "      <td>United-States</td>\n",
       "      <td>&lt;=50K</td>\n",
       "      <td>3</td>\n",
       "    </tr>\n",
       "    <tr>\n",
       "      <th>14480</th>\n",
       "      <td>61</td>\n",
       "      <td>Federal-gov</td>\n",
       "      <td>60641</td>\n",
       "      <td>Some-college</td>\n",
       "      <td>10</td>\n",
       "      <td>Married-civ-spouse</td>\n",
       "      <td>Adm-clerical</td>\n",
       "      <td>Wife</td>\n",
       "      <td>White</td>\n",
       "      <td>Female</td>\n",
       "      <td>0</td>\n",
       "      <td>0</td>\n",
       "      <td>30</td>\n",
       "      <td>United-States</td>\n",
       "      <td>&lt;=50K</td>\n",
       "      <td>4</td>\n",
       "    </tr>\n",
       "    <tr>\n",
       "      <th>18649</th>\n",
       "      <td>66</td>\n",
       "      <td>Local-gov</td>\n",
       "      <td>261062</td>\n",
       "      <td>Masters</td>\n",
       "      <td>14</td>\n",
       "      <td>Widowed</td>\n",
       "      <td>Prof-specialty</td>\n",
       "      <td>Not-in-family</td>\n",
       "      <td>White</td>\n",
       "      <td>Female</td>\n",
       "      <td>0</td>\n",
       "      <td>0</td>\n",
       "      <td>40</td>\n",
       "      <td>United-States</td>\n",
       "      <td>&lt;=50K</td>\n",
       "      <td>5</td>\n",
       "    </tr>\n",
       "    <tr>\n",
       "      <th>17410</th>\n",
       "      <td>43</td>\n",
       "      <td>Private</td>\n",
       "      <td>247880</td>\n",
       "      <td>HS-grad</td>\n",
       "      <td>9</td>\n",
       "      <td>Never-married</td>\n",
       "      <td>Craft-repair</td>\n",
       "      <td>Not-in-family</td>\n",
       "      <td>White</td>\n",
       "      <td>Male</td>\n",
       "      <td>0</td>\n",
       "      <td>0</td>\n",
       "      <td>40</td>\n",
       "      <td>United-States</td>\n",
       "      <td>&lt;=50K</td>\n",
       "      <td>5</td>\n",
       "    </tr>\n",
       "    <tr>\n",
       "      <th>18469</th>\n",
       "      <td>17</td>\n",
       "      <td>Private</td>\n",
       "      <td>104232</td>\n",
       "      <td>10th</td>\n",
       "      <td>6</td>\n",
       "      <td>Never-married</td>\n",
       "      <td>Other-service</td>\n",
       "      <td>Own-child</td>\n",
       "      <td>White</td>\n",
       "      <td>Male</td>\n",
       "      <td>0</td>\n",
       "      <td>0</td>\n",
       "      <td>10</td>\n",
       "      <td>United-States</td>\n",
       "      <td>&lt;=50K</td>\n",
       "      <td>5</td>\n",
       "    </tr>\n",
       "  </tbody>\n",
       "</table>\n",
       "</div>"
      ],
      "text/plain": [
       "       age     workclass  final-weight      education  education-num  \\\n",
       "12792   57       Private        231232        7th-8th              4   \n",
       "14480   61   Federal-gov         60641   Some-college             10   \n",
       "18649   66     Local-gov        261062        Masters             14   \n",
       "17410   43       Private        247880        HS-grad              9   \n",
       "18469   17       Private        104232           10th              6   \n",
       "\n",
       "            marital-status       occupation    relationship    race      sex  \\\n",
       "12792   Married-civ-spouse     Craft-repair         Husband   White     Male   \n",
       "14480   Married-civ-spouse     Adm-clerical            Wife   White   Female   \n",
       "18649              Widowed   Prof-specialty   Not-in-family   White   Female   \n",
       "17410        Never-married     Craft-repair   Not-in-family   White     Male   \n",
       "18469        Never-married    Other-service       Own-child   White     Male   \n",
       "\n",
       "       capital-gain  capital-loos  hour-per-week  native-country  income  \\\n",
       "12792             0             0             40   United-States   <=50K   \n",
       "14480             0             0             30   United-States   <=50K   \n",
       "18649             0             0             40   United-States   <=50K   \n",
       "17410             0             0             40   United-States   <=50K   \n",
       "18469             0             0             10   United-States   <=50K   \n",
       "\n",
       "       grupos  \n",
       "12792       3  \n",
       "14480       4  \n",
       "18649       5  \n",
       "17410       5  \n",
       "18469       5  "
      ]
     },
     "execution_count": 38,
     "metadata": {},
     "output_type": "execute_result"
    }
   ],
   "source": [
    "df_amostragem_reservatorio = amostragem_reservatorio(df, 100)\n",
    "df_amostragem_reservatorio.head()"
   ]
  },
  {
   "cell_type": "code",
   "execution_count": 39,
   "id": "ebac9b23",
   "metadata": {
    "ExecuteTime": {
     "end_time": "2022-07-05T12:09:17.498683Z",
     "start_time": "2022-07-05T12:09:17.491802Z"
    }
   },
   "outputs": [
    {
     "data": {
      "text/plain": [
       "(100, 16)"
      ]
     },
     "execution_count": 39,
     "metadata": {},
     "output_type": "execute_result"
    }
   ],
   "source": [
    "df_amostragem_reservatorio.shape"
   ]
  }
 ],
 "metadata": {
  "kernelspec": {
   "display_name": "ds-projects",
   "language": "python",
   "name": "ds-projects"
  },
  "language_info": {
   "codemirror_mode": {
    "name": "ipython",
    "version": 3
   },
   "file_extension": ".py",
   "mimetype": "text/x-python",
   "name": "python",
   "nbconvert_exporter": "python",
   "pygments_lexer": "ipython3",
   "version": "3.9.7"
  },
  "toc": {
   "base_numbering": 1,
   "nav_menu": {},
   "number_sections": true,
   "sideBar": true,
   "skip_h1_title": false,
   "title_cell": "Table of Contents",
   "title_sidebar": "Contents",
   "toc_cell": false,
   "toc_position": {},
   "toc_section_display": true,
   "toc_window_display": false
  }
 },
 "nbformat": 4,
 "nbformat_minor": 5
}
