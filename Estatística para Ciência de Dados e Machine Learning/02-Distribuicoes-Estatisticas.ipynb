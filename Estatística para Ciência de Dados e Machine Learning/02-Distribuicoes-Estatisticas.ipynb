{
 "cells": [
  {
   "cell_type": "markdown",
   "id": "28211ca2",
   "metadata": {},
   "source": [
    "# DISTRIBUIÇOES"
   ]
  },
  {
   "cell_type": "markdown",
   "id": "c6133f97",
   "metadata": {},
   "source": [
    "## LIBS"
   ]
  },
  {
   "cell_type": "code",
   "execution_count": 1,
   "id": "4526ccae",
   "metadata": {
    "ExecuteTime": {
     "end_time": "2022-07-27T00:39:46.686622Z",
     "start_time": "2022-07-27T00:39:44.445599Z"
    }
   },
   "outputs": [],
   "source": [
    "import numpy as np\n",
    "import seaborn as sns\n",
    "import pandas as pd\n",
    "\n",
    "from scipy import stats"
   ]
  },
  {
   "cell_type": "markdown",
   "id": "773866df",
   "metadata": {},
   "source": [
    "## Variáveis Contínuas"
   ]
  },
  {
   "cell_type": "markdown",
   "id": "9f03da16",
   "metadata": {},
   "source": [
    "### Distribuição Normal - Gaussian Distribution"
   ]
  },
  {
   "cell_type": "code",
   "execution_count": 11,
   "id": "bda93049",
   "metadata": {
    "ExecuteTime": {
     "end_time": "2022-07-27T00:47:18.396842Z",
     "start_time": "2022-07-27T00:47:18.373763Z"
    },
    "scrolled": true
   },
   "outputs": [
    {
     "data": {
      "text/plain": [
       "array([ 1.62434536e+00, -6.11756414e-01, -5.28171752e-01, -1.07296862e+00,\n",
       "        8.65407629e-01, -2.30153870e+00,  1.74481176e+00, -7.61206901e-01,\n",
       "        3.19039096e-01, -2.49370375e-01,  1.46210794e+00, -2.06014071e+00,\n",
       "       -3.22417204e-01, -3.84054355e-01,  1.13376944e+00, -1.09989127e+00,\n",
       "       -1.72428208e-01, -8.77858418e-01,  4.22137467e-02,  5.82815214e-01,\n",
       "       -1.10061918e+00,  1.14472371e+00,  9.01590721e-01,  5.02494339e-01,\n",
       "        9.00855949e-01, -6.83727859e-01, -1.22890226e-01, -9.35769434e-01,\n",
       "       -2.67888080e-01,  5.30355467e-01, -6.91660752e-01, -3.96753527e-01,\n",
       "       -6.87172700e-01, -8.45205641e-01, -6.71246131e-01, -1.26645989e-02,\n",
       "       -1.11731035e+00,  2.34415698e-01,  1.65980218e+00,  7.42044161e-01,\n",
       "       -1.91835552e-01, -8.87628964e-01, -7.47158294e-01,  1.69245460e+00,\n",
       "        5.08077548e-02, -6.36995647e-01,  1.90915485e-01,  2.10025514e+00,\n",
       "        1.20158952e-01,  6.17203110e-01,  3.00170320e-01, -3.52249846e-01,\n",
       "       -1.14251820e+00, -3.49342722e-01, -2.08894233e-01,  5.86623191e-01,\n",
       "        8.38983414e-01,  9.31102081e-01,  2.85587325e-01,  8.85141164e-01,\n",
       "       -7.54397941e-01,  1.25286816e+00,  5.12929820e-01, -2.98092835e-01,\n",
       "        4.88518147e-01, -7.55717130e-02,  1.13162939e+00,  1.51981682e+00,\n",
       "        2.18557541e+00, -1.39649634e+00, -1.44411381e+00, -5.04465863e-01,\n",
       "        1.60037069e-01,  8.76168921e-01,  3.15634947e-01, -2.02220122e+00,\n",
       "       -3.06204013e-01,  8.27974643e-01,  2.30094735e-01,  7.62011180e-01,\n",
       "       -2.22328143e-01, -2.00758069e-01,  1.86561391e-01,  4.10051647e-01,\n",
       "        1.98299720e-01,  1.19008646e-01, -6.70662286e-01,  3.77563786e-01,\n",
       "        1.21821271e-01,  1.12948391e+00,  1.19891788e+00,  1.85156417e-01,\n",
       "       -3.75284950e-01, -6.38730407e-01,  4.23494354e-01,  7.73400683e-02,\n",
       "       -3.43853676e-01,  4.35968568e-02, -6.20000844e-01,  6.98032034e-01,\n",
       "       -4.47128565e-01,  1.22450770e+00,  4.03491642e-01,  5.93578523e-01,\n",
       "       -1.09491185e+00,  1.69382433e-01,  7.40556451e-01, -9.53700602e-01,\n",
       "       -2.66218506e-01,  3.26145467e-02, -1.37311732e+00,  3.15159392e-01,\n",
       "        8.46160648e-01, -8.59515941e-01,  3.50545979e-01, -1.31228341e+00,\n",
       "       -3.86955093e-02, -1.61577235e+00,  1.12141771e+00,  4.08900538e-01,\n",
       "       -2.46169559e-02, -7.75161619e-01,  1.27375593e+00,  1.96710175e+00,\n",
       "       -1.85798186e+00,  1.23616403e+00,  1.62765075e+00,  3.38011697e-01,\n",
       "       -1.19926803e+00,  8.63345318e-01, -1.80920302e-01, -6.03920628e-01,\n",
       "       -1.23005814e+00,  5.50537496e-01,  7.92806866e-01, -6.23530730e-01,\n",
       "        5.20576337e-01, -1.14434139e+00,  8.01861032e-01,  4.65672984e-02,\n",
       "       -1.86569772e-01, -1.01745873e-01,  8.68886157e-01,  7.50411640e-01,\n",
       "        5.29465324e-01,  1.37701210e-01,  7.78211279e-02,  6.18380262e-01,\n",
       "        2.32494559e-01,  6.82551407e-01, -3.10116774e-01, -2.43483776e+00,\n",
       "        1.03882460e+00,  2.18697965e+00,  4.41364444e-01, -1.00155233e-01,\n",
       "       -1.36444744e-01, -1.19054188e-01,  1.74094083e-02, -1.12201873e+00,\n",
       "       -5.17094458e-01, -9.97026828e-01,  2.48799161e-01, -2.96641152e-01,\n",
       "        4.95211324e-01, -1.74703160e-01,  9.86335188e-01,  2.13533901e-01,\n",
       "        2.19069973e+00, -1.89636092e+00, -6.46916688e-01,  9.01486892e-01,\n",
       "        2.52832571e+00, -2.48634778e-01,  4.36689932e-02, -2.26314243e-01,\n",
       "        1.33145711e+00, -2.87307863e-01,  6.80069840e-01, -3.19801599e-01,\n",
       "       -1.27255876e+00,  3.13547720e-01,  5.03184813e-01,  1.29322588e+00,\n",
       "       -1.10447026e-01, -6.17362064e-01,  5.62761097e-01,  2.40737092e-01,\n",
       "        2.80665077e-01, -7.31127037e-02,  1.16033857e+00,  3.69492716e-01,\n",
       "        1.90465871e+00,  1.11105670e+00,  6.59049796e-01, -1.62743834e+00,\n",
       "        6.02319280e-01,  4.20282204e-01,  8.10951673e-01,  1.04444209e+00,\n",
       "       -4.00878192e-01,  8.24005618e-01, -5.62305431e-01,  1.95487808e+00,\n",
       "       -1.33195167e+00, -1.76068856e+00, -1.65072127e+00, -8.90555584e-01,\n",
       "       -1.11911540e+00,  1.95607890e+00, -3.26499498e-01, -1.34267579e+00,\n",
       "        1.11438298e+00, -5.86523939e-01, -1.23685338e+00,  8.75838928e-01,\n",
       "        6.23362177e-01, -4.34956683e-01,  1.40754000e+00,  1.29101580e-01,\n",
       "        1.61694960e+00,  5.02740882e-01,  1.55880554e+00,  1.09402696e-01,\n",
       "       -1.21974440e+00,  2.44936865e+00, -5.45774168e-01, -1.98837863e-01,\n",
       "       -7.00398505e-01, -2.03394449e-01,  2.42669441e-01,  2.01830179e-01,\n",
       "        6.61020288e-01,  1.79215821e+00, -1.20464572e-01, -1.23312074e+00,\n",
       "       -1.18231813e+00, -6.65754518e-01, -1.67419581e+00,  8.25029824e-01,\n",
       "       -4.98213564e-01, -3.10984978e-01, -1.89148284e-03, -1.39662042e+00,\n",
       "       -8.61316361e-01,  6.74711526e-01,  6.18539131e-01, -4.43171931e-01,\n",
       "        1.81053491e+00, -1.30572692e+00, -3.44987210e-01, -2.30839743e-01,\n",
       "       -2.79308500e+00,  1.93752881e+00,  3.66332015e-01, -1.04458938e+00,\n",
       "        2.05117344e+00,  5.85662000e-01,  4.29526140e-01, -6.06998398e-01,\n",
       "        1.06222724e-01, -1.52568032e+00,  7.95026094e-01, -3.74438319e-01,\n",
       "        1.34048197e-01,  1.20205486e+00,  2.84748111e-01,  2.62467445e-01,\n",
       "        2.76499305e-01, -7.33271604e-01,  8.36004719e-01,  1.54335911e+00,\n",
       "        7.58805660e-01,  8.84908814e-01, -8.77281519e-01, -8.67787223e-01,\n",
       "       -1.44087602e+00,  1.23225307e+00, -2.54179868e-01,  1.39984394e+00,\n",
       "       -7.81911683e-01, -4.37508983e-01,  9.54250872e-02,  9.21450069e-01,\n",
       "        6.07501958e-02,  2.11124755e-01,  1.65275673e-02,  1.77187720e-01,\n",
       "       -1.11647002e+00,  8.09271010e-02, -1.86578994e-01, -5.68244809e-02,\n",
       "        4.92336556e-01, -6.80678141e-01, -8.45080274e-02, -2.97361883e-01,\n",
       "        4.17302005e-01,  7.84770651e-01, -9.55425262e-01,  5.85910431e-01,\n",
       "        2.06578332e+00, -1.47115693e+00, -8.30171895e-01, -8.80577600e-01,\n",
       "       -2.79097722e-01,  1.62284909e+00,  1.33526763e-02, -6.94693595e-01,\n",
       "        6.21803504e-01, -5.99804531e-01,  1.12341216e+00,  3.05267040e-01,\n",
       "        1.38877940e+00, -6.61344243e-01,  3.03085711e+00,  8.24584625e-01,\n",
       "        6.54580153e-01, -5.11884476e-02, -7.25597119e-01, -8.67768678e-01,\n",
       "       -1.35977326e-01, -7.97269785e-01,  2.82675712e-01, -8.26097432e-01,\n",
       "        6.21082701e-01,  9.56121704e-01, -7.05840507e-01,  1.19268607e+00,\n",
       "       -2.37941936e-01,  1.15528789e+00,  4.38166347e-01,  1.12232832e+00,\n",
       "       -9.97019796e-01, -1.06793987e-01,  1.45142926e+00, -6.18036848e-01,\n",
       "       -2.03720123e+00, -1.94258918e+00, -2.50644065e+00, -2.11416392e+00,\n",
       "       -4.11639163e-01,  1.27852808e+00, -4.42229280e-01,  3.23527354e-01,\n",
       "       -1.09991490e-01,  8.54894544e-03, -1.68198840e-01, -1.74180344e-01,\n",
       "        4.61164100e-01, -1.17598267e+00,  1.01012718e+00,  9.20017933e-01,\n",
       "       -1.95057341e-01,  8.05393424e-01, -7.01344426e-01, -5.37223024e-01,\n",
       "        1.56263850e-01, -1.90221025e-01, -4.48738033e-01, -6.72448039e-01,\n",
       "       -5.57494722e-01,  9.39168744e-01, -1.94332341e+00,  3.52494364e-01,\n",
       "       -2.36436952e-01,  7.27813500e-01,  5.15073614e-01, -2.78253447e+00,\n",
       "        5.84646610e-01,  3.24274243e-01,  2.18628366e-02, -4.68673816e-01,\n",
       "        8.53281222e-01, -4.13029310e-01,  1.83471763e+00,  5.64382855e-01,\n",
       "        2.13782807e+00, -7.85533997e-01, -1.75592564e+00,  7.14789597e-01,\n",
       "        8.52704062e-01,  3.53600971e-02, -1.53879325e+00, -4.47895185e-01,\n",
       "        6.17985534e-01, -1.84176326e-01, -1.15985185e-01, -1.75458969e-01,\n",
       "       -9.33914656e-01, -5.33020326e-01, -1.42655542e+00,  1.76795995e+00,\n",
       "       -4.75372875e-01,  4.77610182e-01, -1.02188594e+00,  7.94528240e-01,\n",
       "       -1.87316098e+00,  9.20615118e-01, -3.53679249e-02,  2.11060505e+00,\n",
       "       -1.30653407e+00,  7.63804802e-02,  3.67231814e-01,  1.23289919e+00,\n",
       "       -4.22856961e-01,  8.64644065e-02, -2.14246673e+00, -8.30168864e-01,\n",
       "        4.51615951e-01,  1.10417433e+00, -2.81736269e-01,  2.05635552e+00,\n",
       "        1.76024923e+00, -6.06524918e-02, -2.41350300e+00, -1.77756638e+00,\n",
       "       -7.77858827e-01,  1.11584111e+00,  3.10272288e-01, -2.09424782e+00,\n",
       "       -2.28765829e-01,  1.61336137e+00, -3.74804687e-01, -7.49969617e-01,\n",
       "        2.05462410e+00,  5.34095368e-02, -4.79157099e-01,  3.50167159e-01,\n",
       "        1.71647264e-02, -4.29142278e-01,  1.20845633e+00,  1.11570180e+00,\n",
       "        8.40861558e-01, -1.02887218e-01,  1.14690038e+00, -4.97025792e-02,\n",
       "        4.66643267e-01,  1.03368687e+00,  8.08844360e-01,  1.78975468e+00,\n",
       "        4.51284016e-01, -1.68405999e+00, -1.16017010e+00,  1.35010682e+00,\n",
       "       -3.31283170e-01,  3.86539145e-01, -8.51455657e-01,  1.00088142e+00,\n",
       "       -3.84832249e-01,  1.45810824e+00, -5.32234021e-01,  1.11813340e+00,\n",
       "        6.74396105e-01, -7.22391905e-01,  1.09899633e+00, -9.01634490e-01,\n",
       "       -8.22467189e-01,  7.21711292e-01, -6.25342001e-01, -5.93843067e-01,\n",
       "       -3.43900709e-01, -1.00016919e+00,  1.04499441e+00,  6.08514698e-01,\n",
       "       -6.93286967e-02, -1.08392067e-01,  4.50155513e-01,  1.76533510e+00,\n",
       "        8.70969803e-01, -5.08457134e-01,  7.77419205e-01, -1.18771172e-01,\n",
       "       -1.98998184e-01,  1.86647138e+00, -4.18937898e-01, -4.79184915e-01,\n",
       "       -1.95210529e+00, -1.40232915e+00,  4.51122939e-01, -6.94920901e-01,\n",
       "        5.15413802e-01, -1.11487105e+00, -7.67309826e-01,  6.74570707e-01,\n",
       "        1.46089238e+00,  5.92472801e-01,  1.19783084e+00,  1.70459417e+00,\n",
       "        1.04008915e+00, -9.18440038e-01, -1.05344713e-01,  6.30195671e-01,\n",
       "       -4.14846901e-01,  4.51946037e-01, -1.57915629e+00, -8.28627979e-01,\n",
       "        5.28879746e-01, -2.23708651e+00, -1.10771250e+00, -1.77183179e-02,\n",
       "       -1.71939447e+00,  5.71209961e-02, -7.99547491e-01, -2.91594596e-01,\n",
       "       -2.58982853e-01,  1.89293198e-01, -5.63788735e-01,  8.96864073e-02,\n",
       "       -6.01156801e-01,  5.56073510e-01,  1.69380911e+00,  1.96869779e-01,\n",
       "        1.69869255e-01, -1.16400797e+00,  6.93366226e-01, -7.58067329e-01,\n",
       "       -8.08847196e-01,  5.57439453e-01,  1.81038744e-01,  1.10717545e+00,\n",
       "        1.44287693e+00, -5.39681562e-01,  1.28376990e-01,  1.76041518e+00,\n",
       "        9.66539250e-01,  7.13049050e-01,  1.30620607e+00, -6.04602969e-01,\n",
       "        6.36583409e-01,  1.40925339e+00,  1.62091229e+00, -8.06184817e-01,\n",
       "       -2.51674208e-01,  3.82715174e-01, -2.88997343e-01, -3.91816240e-01,\n",
       "        6.84001328e-01, -3.53409983e-01, -1.78791289e+00,  3.61847316e-01,\n",
       "       -4.24492791e-01, -7.31530982e-01, -1.56573815e+00,  1.01382247e+00,\n",
       "       -2.22711263e+00, -1.69933360e+00, -2.75846063e-01,  1.22895559e+00,\n",
       "        1.30970591e+00, -1.15498263e+00, -1.77632196e-01, -1.51045638e+00,\n",
       "        1.01120706e+00, -1.47656266e+00, -1.43195745e-01,  1.03298378e+00,\n",
       "       -2.22414029e-01,  1.47016034e+00, -8.70008223e-01,  3.69190470e-01,\n",
       "        8.53282186e-01, -1.39711730e-01,  1.38631426e+00,  5.48129585e-01,\n",
       "       -1.63744959e+00,  3.95860270e+00,  6.48643644e-01,  1.07343294e-01,\n",
       "       -1.39881282e+00,  8.17678188e-02, -4.59942831e-01,  6.44353666e-01,\n",
       "        3.71670291e-01,  1.85300949e+00,  1.42251373e-01,  5.13505480e-01,\n",
       "        3.72456852e-01, -1.48489803e-01, -1.83400197e-01,  1.10100020e+00,\n",
       "        7.80027135e-01, -6.29441604e-01, -1.11343610e+00, -6.74100249e-02,\n",
       "        1.16143998e+00, -2.75293863e-02,  1.74643509e+00, -7.75070287e-01,\n",
       "        1.41640538e-01, -2.51630386e+00, -5.95667881e-01, -3.09121319e-01,\n",
       "        5.10937774e-01,  1.71066184e+00,  3.49435894e-02,  1.45391758e+00,\n",
       "        6.61681076e-01,  9.86352180e-01, -4.66154857e-01,  1.38499134e+00,\n",
       "       -1.07296428e+00,  4.95158611e-01, -9.52062101e-01, -5.18145552e-01,\n",
       "       -1.46140360e+00, -5.16347909e-01,  3.51116897e-01, -6.87704631e-02,\n",
       "       -1.34776494e+00,  1.47073986e+00,  3.37220938e-01,  1.00806543e+00,\n",
       "        7.85226920e-01, -6.64867767e-01, -1.94504696e+00, -9.15424368e-01,\n",
       "        1.22515585e+00, -1.05354607e+00,  8.16043684e-01, -6.12406973e-01,\n",
       "        3.93109245e-01, -1.82391985e+00,  1.16707517e+00, -3.96687001e-02,\n",
       "        8.85825799e-01,  1.89861649e-01,  7.98063795e-01, -1.01932039e-01,\n",
       "        7.43356544e-01, -1.50957268e+00, -1.08071069e+00,  7.25474004e-01,\n",
       "       -3.91782562e-02, -2.28754171e-01, -1.79612295e-01,  5.01725109e-01,\n",
       "       -5.93343754e-01,  5.10307597e-01, -9.15791849e-01, -4.07252043e-01,\n",
       "        9.84951672e-01,  1.07125243e+00, -1.09715436e+00,  8.38634747e-01,\n",
       "       -1.03918232e+00,  7.33023232e-01, -1.89881206e+00, -1.11711069e+00,\n",
       "       -5.08972278e-01, -1.66485955e-01,  1.42361443e+00,  9.03999174e-01,\n",
       "        1.57546791e+00,  1.20660790e+00, -2.82863552e-01, -2.66326884e-01,\n",
       "        1.06897162e+00,  4.03714310e-02, -1.56993672e-01, -1.33520272e+00,\n",
       "       -1.06460122e-01, -2.79099641e+00, -4.56117555e-01, -9.79890252e-01,\n",
       "        6.92574348e-01, -4.78672356e-01, -3.29051549e-01,  1.34710546e+00,\n",
       "       -1.04906775e+00,  3.16658895e-01, -1.89526695e+00,  8.97291174e-02,\n",
       "        4.10265745e-01,  8.59870972e-01, -8.98683193e-01,  3.19656942e-01,\n",
       "        3.18154200e-01, -1.92316341e-02,  1.50016279e-01,  4.63534322e-01,\n",
       "        3.97880425e-01, -9.96010889e-01, -1.19586151e+00,  2.50598029e+00,\n",
       "        1.91979229e+00, -1.39169388e+00,  4.50217742e-01,  6.27437083e-01,\n",
       "        7.51337235e-01,  1.40395436e-01, -9.26871939e-01, -1.82420406e-01,\n",
       "       -4.91125138e-01,  1.34373116e-01, -2.68371304e-01, -1.31675626e-01,\n",
       "        1.01855247e+00,  1.23055820e+00, -1.18110317e+00, -4.59930104e-01,\n",
       "       -7.90799954e-01,  1.22372221e+00, -5.93679025e-02,  1.44898940e+00,\n",
       "       -4.77580855e-01,  2.59999942e-02, -1.34869645e+00,  1.30253554e+00,\n",
       "       -3.62612088e-01, -1.48515645e+00, -5.92461285e-01, -2.30490794e+00,\n",
       "       -3.18171727e-02,  1.12487742e-01,  2.88078167e-01,  1.49810818e+00,\n",
       "       -3.00976154e-01,  8.07455917e-01,  3.12238689e-01, -1.93321640e-01,\n",
       "       -2.07680202e+00,  9.47501167e-01, -5.03973949e-01,  1.79558917e-02,\n",
       "       -1.27046078e+00,  2.82995534e-01,  1.08030817e-01,  2.94176190e-02,\n",
       "       -1.34793129e-01,  1.04921829e+00,  9.66220863e-01,  7.25916853e-01,\n",
       "        3.32107876e+00, -6.00225330e-01, -3.79517516e-01, -1.01480369e+00,\n",
       "        4.35986196e-01, -6.87487393e-01, -2.69836174e+00, -1.21333813e+00,\n",
       "        7.22518992e-02,  1.00978733e+00, -1.55694156e+00, -6.12442128e-01,\n",
       "       -1.39351805e-01, -7.28537489e-01,  5.31163793e-01,  4.00084198e-03,\n",
       "        3.21265914e-01, -7.25214926e-01,  1.53653633e+00, -3.75008758e-04,\n",
       "        1.29354962e+00, -4.38997664e-01,  5.90039464e-01, -6.79383783e-01,\n",
       "       -9.50909251e-01, -7.04350332e-01, -4.58666861e-02, -2.18733459e-01,\n",
       "        1.53920701e+00, -1.14870423e+00, -1.09033833e+00,  1.70018815e+00,\n",
       "        6.08783659e-01, -1.88141087e+00,  4.97269099e-01,  2.37332699e-01,\n",
       "       -2.14444405e+00, -3.69562425e-01, -1.74549518e-02,  7.31402517e-01,\n",
       "        9.54495667e-01,  9.57467711e-02,  1.03345080e+00, -1.46273275e-01,\n",
       "       -8.57496825e-01, -9.34181843e-01,  5.42645295e-01, -1.95816909e+00,\n",
       "        6.77807571e-01, -1.10657307e+00, -3.59224096e-01,  5.05381903e-01,\n",
       "        1.21794090e+00, -1.94068096e+00, -8.06178212e-01,  4.90616924e-02,\n",
       "       -5.96086335e-01,  8.61623101e-01, -2.08639057e+00,  3.61801641e-01,\n",
       "        4.25920177e-01,  4.90803971e-02,  1.10223673e+00, -1.22957425e+00,\n",
       "        1.10861676e+00, -7.02920403e-01,  7.25550518e-01, -3.24204219e-01,\n",
       "        8.14343129e-01,  7.80469930e-01, -1.46405357e+00, -1.54491194e-01,\n",
       "       -9.24323185e-02, -2.37875265e-01, -7.55662765e-01,  1.85143789e+00,\n",
       "        2.09096677e-01,  1.55501599e+00, -5.69148654e-01, -1.06179676e+00,\n",
       "        1.32247779e-01, -5.63236604e-01,  2.39014596e+00,  2.45422849e-01,\n",
       "        1.15259914e+00, -2.24235772e-01, -3.26061306e-01, -3.09114176e-02,\n",
       "        3.55717262e-01,  8.49586845e-01, -1.22154015e-01, -6.80851574e-01,\n",
       "       -1.06787658e+00, -7.66793627e-02,  5.72962726e-01,  4.57947076e-01,\n",
       "       -1.78175491e-02, -6.00138799e-01,  1.46765263e-01,  5.71804879e-01,\n",
       "       -3.68176565e-02,  1.12368489e-01, -1.50504326e-01,  9.15499268e-01,\n",
       "       -4.38200267e-01,  1.85535621e-01,  3.94428030e-01,  7.25522558e-01,\n",
       "        1.49588477e+00,  6.75453809e-01,  5.99213235e-01, -1.47023709e+00,\n",
       "        6.06403944e-01,  2.29371761e+00, -8.30010986e-01, -1.01951985e+00,\n",
       "       -2.14653842e-01,  1.02124813e+00,  5.24750492e-01, -4.77124206e-01,\n",
       "       -3.59901817e-02,  1.03703898e+00,  6.72619748e-01,  2.42887697e+00,\n",
       "        1.00568668e+00,  3.53567216e-01,  6.14726276e-01, -3.48984191e-01,\n",
       "       -9.77773002e-01,  1.71957132e-01,  4.90561044e-01, -1.39528303e+00,\n",
       "       -5.22356465e-01, -3.69255902e-01,  2.65642403e-01, -2.60466059e-01,\n",
       "        4.45096710e-01,  9.81122462e-02,  1.06032751e+00, -1.71116766e+00,\n",
       "        1.65712464e+00,  1.41767401e+00,  5.03170861e-02,  6.50323214e-01,\n",
       "        6.06548400e-01, -7.37289628e-01,  1.64665066e-01,  7.78174179e-01,\n",
       "        3.09816759e-01,  1.05132077e+00,  9.49961101e-02,  8.07509886e-02,\n",
       "       -7.67803746e-01, -3.64538050e-01, -4.59717681e-01,  1.70548352e+00,\n",
       "        2.40505552e-01, -9.99426501e-01,  3.98598388e-01, -1.92003697e-01,\n",
       "       -3.05376438e+00,  4.79852371e-01, -1.55269878e+00,  5.78464420e-01,\n",
       "       -9.61263599e-01, -1.45832446e+00,  4.94341651e-01, -1.49419377e+00,\n",
       "       -4.46699203e-01,  2.04377395e-01,  6.12232523e-01,  7.44884536e-01,\n",
       "       -3.62812886e-02, -8.32395348e-01,  1.92381543e+00, -6.05981321e-01,\n",
       "        1.80358898e+00, -4.52524973e-01,  1.16128569e+00,  1.06996554e+00,\n",
       "       -1.04553425e+00,  3.55284507e-01,  7.55392029e-01,  7.00982122e-01,\n",
       "       -1.98937450e-01,  3.01960045e-01, -3.94689681e-01, -1.17181338e+00,\n",
       "        9.84012237e-01, -5.59681422e-01,  1.37975819e+00,  6.02450901e-01,\n",
       "       -8.92646674e-01, -1.61198320e-01, -2.86384915e-01, -8.70887650e-01,\n",
       "        5.01429590e-01, -4.78614074e-01,  1.63169151e+00,  8.60891241e-01,\n",
       "       -8.80189065e-01, -1.90005215e-02, -2.26760192e-01, -1.56450785e+00,\n",
       "        9.31255679e-01,  9.49808815e-01,  9.25501215e-01, -4.56987858e-01,\n",
       "        1.06898597e+00, -2.09752935e-01,  9.35147780e-01,  1.81252782e+00,\n",
       "        1.40109881e-01, -1.41914878e+00, -3.16901197e-01,  6.40985866e-01,\n",
       "        1.21987438e+00, -1.13379204e+00, -1.90548298e-01,  2.33339126e-01,\n",
       "        4.34998324e-01,  9.10423603e-01, -9.48439656e-01, -4.23478297e-01,\n",
       "        1.00796648e+00,  3.92334911e-01,  4.48380651e-01,  1.12532350e+00,\n",
       "        1.04053390e-01,  5.28003422e-01, -3.14563862e-01, -1.34501002e+00,\n",
       "       -1.29525789e+00,  7.43205537e-02, -1.99560718e-01, -6.54603169e-01,\n",
       "        3.18014296e-01, -8.90271552e-01,  1.11337266e-01, -1.95225583e-02,\n",
       "       -8.39988915e-01, -2.29820588e+00,  1.45652739e+00,  3.16637236e-01,\n",
       "       -2.66412594e+00, -4.26428618e-01,  3.93787731e-01, -2.28140691e-01,\n",
       "        5.80330113e-01, -9.73267585e-01,  1.75167729e-01, -5.34836927e-02,\n",
       "       -1.83061987e-01, -2.21028902e-01,  1.99759555e-01,  9.32721414e-01,\n",
       "       -5.30119800e-01, -4.07240024e-01,  1.60564992e-01, -1.20149976e-01,\n",
       "        3.85602292e-01,  7.18290736e-01,  1.29118890e+00, -1.16444148e-01,\n",
       "       -2.27729800e+00, -6.96245395e-02,  3.53870427e-01, -1.86955017e-01])"
      ]
     },
     "execution_count": 11,
     "metadata": {},
     "output_type": "execute_result"
    }
   ],
   "source": [
    "dados_normal = stats.norm.rvs(size = 1000, random_state = 1)\n",
    "dados_normal"
   ]
  },
  {
   "cell_type": "code",
   "execution_count": 12,
   "id": "40ffaa5f",
   "metadata": {
    "ExecuteTime": {
     "end_time": "2022-07-27T00:47:18.975220Z",
     "start_time": "2022-07-27T00:47:18.968593Z"
    }
   },
   "outputs": [
    {
     "data": {
      "text/plain": [
       "-3.053764380426305"
      ]
     },
     "execution_count": 12,
     "metadata": {},
     "output_type": "execute_result"
    }
   ],
   "source": [
    "min(dados_normal)"
   ]
  },
  {
   "cell_type": "code",
   "execution_count": 13,
   "id": "2e52c006",
   "metadata": {
    "ExecuteTime": {
     "end_time": "2022-07-27T00:47:20.369529Z",
     "start_time": "2022-07-27T00:47:20.363039Z"
    }
   },
   "outputs": [
    {
     "data": {
      "text/plain": [
       "3.9586027040379634"
      ]
     },
     "execution_count": 13,
     "metadata": {},
     "output_type": "execute_result"
    }
   ],
   "source": [
    "max(dados_normal)"
   ]
  },
  {
   "cell_type": "code",
   "execution_count": 14,
   "id": "711b1214",
   "metadata": {
    "ExecuteTime": {
     "end_time": "2022-07-27T00:47:22.007416Z",
     "start_time": "2022-07-27T00:47:21.748770Z"
    }
   },
   "outputs": [
    {
     "data": {
      "text/plain": [
       "<AxesSubplot:ylabel='Count'>"
      ]
     },
     "execution_count": 14,
     "metadata": {},
     "output_type": "execute_result"
    },
    {
     "data": {
      "image/png": "[encoded data removed]",
      "text/plain": [
       "<Figure size 432x288 with 1 Axes>"
      ]
     },
     "metadata": {
      "needs_background": "light"
     },
     "output_type": "display_data"
    }
   ],
   "source": [
    "sns.histplot(x = dados_normal, kde = True)"
   ]
  },
  {
   "cell_type": "code",
   "execution_count": 15,
   "id": "5dd0bc40",
   "metadata": {
    "ExecuteTime": {
     "end_time": "2022-07-27T00:47:22.994486Z",
     "start_time": "2022-07-27T00:47:22.985335Z"
    }
   },
   "outputs": [
    {
     "data": {
      "text/plain": [
       "(0.03881247615960185,\n",
       " 0.04129258886921605,\n",
       " ModeResult(mode=array([-3.05376438]), count=array([1])),\n",
       " 0.9623691107920885,\n",
       " 0.9810041339322116)"
      ]
     },
     "execution_count": 15,
     "metadata": {},
     "output_type": "execute_result"
    }
   ],
   "source": [
    "dados_normal.mean(), np.median(dados_normal), stats.mode(dados_normal), np.var(dados_normal), np.std(dados_normal)"
   ]
  },
  {
   "cell_type": "code",
   "execution_count": 16,
   "id": "a5cfe3c0",
   "metadata": {
    "ExecuteTime": {
     "end_time": "2022-07-27T00:48:36.465764Z",
     "start_time": "2022-07-27T00:48:36.458825Z"
    }
   },
   "outputs": [
    {
     "data": {
      "text/plain": [
       "148"
      ]
     },
     "execution_count": 16,
     "metadata": {},
     "output_type": "execute_result"
    }
   ],
   "source": [
    "# identificando os valores que representam 68.2%\n",
    "std = np.std(dados_normal)\n",
    "\n",
    "np.sum(((dados_normal >= std) & (dados_normal <= std + 1)))"
   ]
  },
  {
   "cell_type": "code",
   "execution_count": 18,
   "id": "076a2327",
   "metadata": {
    "ExecuteTime": {
     "end_time": "2022-07-27T00:49:03.186357Z",
     "start_time": "2022-07-27T00:49:03.179217Z"
    }
   },
   "outputs": [
    {
     "data": {
      "text/plain": [
       "353"
      ]
     },
     "execution_count": 18,
     "metadata": {},
     "output_type": "execute_result"
    }
   ],
   "source": [
    "np.sum(((dados_normal <= std) & (dados_normal >= std - 1)))"
   ]
  },
  {
   "cell_type": "code",
   "execution_count": 20,
   "id": "6cb893ab",
   "metadata": {
    "ExecuteTime": {
     "end_time": "2022-07-27T00:49:18.062167Z",
     "start_time": "2022-07-27T00:49:18.047739Z"
    }
   },
   "outputs": [
    {
     "data": {
      "text/plain": [
       "0.512"
      ]
     },
     "execution_count": 20,
     "metadata": {},
     "output_type": "execute_result"
    }
   ],
   "source": [
    "(148 + 364) / 1000"
   ]
  },
  {
   "cell_type": "markdown",
   "id": "c04f44aa",
   "metadata": {},
   "source": [
    "## ENVIESAMENTO / SKEW"
   ]
  },
  {
   "cell_type": "code",
   "execution_count": 21,
   "id": "1b9a0b21",
   "metadata": {
    "ExecuteTime": {
     "end_time": "2022-07-27T00:56:45.644526Z",
     "start_time": "2022-07-27T00:56:45.637723Z"
    }
   },
   "outputs": [],
   "source": [
    "from scipy.stats import skewnorm"
   ]
  },
  {
   "cell_type": "code",
   "execution_count": 23,
   "id": "6b0e273d",
   "metadata": {
    "ExecuteTime": {
     "end_time": "2022-07-27T00:57:11.115788Z",
     "start_time": "2022-07-27T00:57:11.075019Z"
    }
   },
   "outputs": [
    {
     "data": {
      "text/plain": [
       "array([ 1.35017487e+00,  1.66254462e+00, -3.70952010e-01,  7.11071166e-01,\n",
       "        1.19601764e+00,  1.26148485e+00,  7.23394516e-03, -2.60365298e+00,\n",
       "       -1.63588884e+00, -2.82319171e-01,  3.13809009e+00, -1.04902930e+00,\n",
       "       -2.69211235e-01,  6.45864760e-01, -2.00320087e+00,  8.72762691e-01,\n",
       "        2.50155794e-01,  2.04183069e+00,  5.05563686e-01, -4.91455656e-01,\n",
       "       -1.18514622e+00, -1.02356214e-01, -3.28070687e-01, -1.06668370e+00,\n",
       "        3.63669713e-01, -5.96053011e-01, -1.08856053e+00, -7.37800300e-01,\n",
       "       -1.75549460e+00, -1.32115446e+00, -2.07807037e+00, -1.51707529e-01,\n",
       "       -5.53728047e-01,  4.08865262e-01,  3.37056972e-01,  1.82608895e+00,\n",
       "        5.47115999e-01, -8.12338263e-01,  2.85981223e+00,  2.91776705e-01,\n",
       "        8.21342796e-01,  5.74467535e-01,  7.21254113e-01, -1.60400069e+00,\n",
       "       -1.43173163e+00,  8.00809661e-01,  9.07152770e-01,  1.31925663e+00,\n",
       "        2.09119738e+00, -3.37570562e-01, -1.55450956e+00, -1.00730564e+00,\n",
       "       -1.09631844e-01,  7.56728007e-02,  7.35342539e-01, -9.70007723e-01,\n",
       "       -1.15793507e+00, -2.55848926e-01,  5.25552238e-01, -3.97800636e-01,\n",
       "       -6.63386271e-01, -1.21981328e-01,  5.62208299e-01,  3.39856200e-01,\n",
       "        7.98483540e-01, -3.84835741e-01, -8.94887047e-01,  1.24718415e+00,\n",
       "       -2.75788051e-01,  1.37913594e+00, -4.25335124e-01,  7.31435460e-02,\n",
       "       -2.00877164e-01, -1.60994706e+00,  2.06880250e-01, -6.65709651e-01,\n",
       "       -4.37043505e-01,  1.29570609e+00,  4.42383475e-01, -1.10743420e+00,\n",
       "       -1.17478142e+00,  1.59709711e-01,  2.70467926e-01, -2.96091510e-02,\n",
       "        7.35787471e-01,  1.30632439e+00,  1.75477565e+00, -1.73572328e+00,\n",
       "        9.39372705e-01, -4.59855864e-01,  2.41483092e-01,  2.40427519e-01,\n",
       "       -1.79918200e-01, -2.41331058e-01, -4.96427381e-01,  7.56999543e-01,\n",
       "       -3.07378620e-01, -1.04676387e+00, -4.06828312e-01, -2.12364667e-01,\n",
       "        1.59119334e+00,  4.84802517e-01, -4.79203374e-01,  1.48596488e-01,\n",
       "       -5.01819657e-01,  2.03127853e+00, -2.22451223e-01, -2.24741293e-02,\n",
       "       -1.52109321e+00,  1.90943990e-01,  6.96776222e-01,  1.40019794e+00,\n",
       "        9.06567756e-01, -8.95923009e-01, -4.15017773e-01,  2.62680833e-01,\n",
       "       -1.02197524e+00,  5.39849958e-01, -1.10086474e+00, -1.36132042e-01,\n",
       "       -1.12897763e+00, -1.54154602e+00,  6.02382602e-01, -1.15380152e+00,\n",
       "        1.78096650e-01,  1.15115075e+00, -1.14203646e+00, -1.33567994e+00,\n",
       "        1.13161046e+00, -2.01956300e+00,  1.31704255e+00, -9.83607822e-02,\n",
       "        1.72128118e-01, -1.95033315e+00, -8.84042734e-01, -5.79327659e-01,\n",
       "        4.42157807e-01, -1.42716303e+00, -6.18549914e-01,  7.26113522e-01,\n",
       "        1.29491525e+00,  1.96599275e-01, -4.29577639e-01,  1.12599557e+00,\n",
       "       -8.07719447e-01,  2.78927863e-01, -1.63684728e-01,  1.58356489e-01,\n",
       "        1.40843012e-02,  1.07898091e+00, -2.77932024e-02,  1.11450720e+00,\n",
       "       -7.28303686e-01, -1.08238758e+00, -1.23307314e-01,  1.67054461e-01,\n",
       "       -1.14227156e+00, -1.01718363e+00,  9.90261313e-01,  1.54235053e-01,\n",
       "       -1.55665762e+00, -1.75653936e+00, -7.21979691e-02, -3.55777350e-01,\n",
       "       -1.02423036e+00,  3.40678375e-01,  7.60785598e-01,  1.21470585e-01,\n",
       "       -1.01036463e+00, -1.34560486e+00,  7.41178216e-02, -9.10721455e-01,\n",
       "       -2.95963960e-02,  2.16862215e+00,  1.55847648e+00,  1.92703811e-01,\n",
       "        4.95063855e-01,  1.39662882e+00, -1.13257007e-01,  8.85831405e-01,\n",
       "        4.98201182e-01, -1.43220035e-01, -1.13454926e+00, -1.95546789e-01,\n",
       "        4.62575605e-01, -5.44669517e-01, -5.33239200e-01, -1.08472438e+00,\n",
       "        3.22569070e-01,  2.94840443e-01, -6.33649397e-01,  1.39786979e+00,\n",
       "        1.84381272e-01,  4.30638571e-01,  7.85592488e-01,  3.88773319e-01,\n",
       "       -8.89796792e-01, -6.55169641e-03, -2.77203593e-03, -3.46697338e-01,\n",
       "       -1.44685695e-01,  1.87829229e-01,  5.73442133e-01,  9.45624481e-01,\n",
       "        1.73882795e+00,  6.67866522e-01,  4.08161643e-01, -5.26038583e-01,\n",
       "       -1.11822719e+00, -8.30696730e-01,  1.80188063e+00,  8.05665240e-01,\n",
       "        2.46710529e-01,  2.61530967e-01, -4.60123774e-01, -2.05014681e-01,\n",
       "        4.44664940e-01, -4.04081518e-01, -4.22768562e-01,  6.50316418e-01,\n",
       "        8.02439768e-01, -1.13995951e-01, -3.90969556e-01, -5.47161665e-01,\n",
       "        1.12112758e+00, -1.07915832e+00, -1.67704282e+00, -4.38173932e-01,\n",
       "        2.37807536e+00,  1.11889172e+00,  8.42467818e-01,  3.98555092e-01,\n",
       "       -1.33565138e+00,  1.41216596e+00,  1.00856661e+00,  1.61735599e+00,\n",
       "        6.21641242e-01,  3.53737862e-01, -3.70182873e-02,  1.28416159e+00,\n",
       "        8.43002674e-01, -7.62648575e-01, -7.12960051e-01, -1.70976670e-01,\n",
       "        2.24719670e+00, -6.68853624e-01,  9.31536696e-03, -3.42947072e-01,\n",
       "        1.39696394e-01, -2.93325992e-01, -7.18230903e-01,  1.11056859e+00,\n",
       "       -6.43707957e-01, -1.89725276e+00,  2.28320944e-01,  4.44673739e-01,\n",
       "        2.28768083e-01, -1.07918701e+00, -4.69021936e-01, -5.85645414e-01,\n",
       "       -1.43134724e+00,  8.33274985e-01,  6.01386262e-02,  1.41261853e+00,\n",
       "       -1.22662348e+00,  2.61241358e-04,  8.74867477e-01, -6.74884022e-01,\n",
       "        2.49452700e-01,  2.02474627e+00, -5.32983512e-01,  5.22705592e-01,\n",
       "       -8.95063928e-01,  8.22782166e-01, -1.39792004e+00,  4.60463800e-01,\n",
       "       -1.36302022e+00, -8.26401342e-01,  2.24136553e-01, -2.12145270e-02,\n",
       "       -7.68549569e-01,  3.77599001e-01, -3.03210569e-01, -8.56297470e-01,\n",
       "        1.45336302e+00,  7.20367044e-01,  1.32616128e+00, -9.77072897e-02,\n",
       "       -5.36721014e-01, -3.26219550e-01, -8.38135039e-02, -3.59131659e-01,\n",
       "        6.30737822e-01,  4.67755117e-01,  1.65520422e-01, -1.48917798e+00,\n",
       "        5.54295386e-02,  2.47989909e+00, -1.30024227e+00, -1.24000734e+00,\n",
       "        1.30890950e+00, -2.45371924e-01, -4.03013271e-01, -1.46286521e-02,\n",
       "       -1.01282305e+00,  1.64180786e+00, -2.02799367e+00, -2.41989559e-01,\n",
       "        2.00419654e+00, -8.32223909e-01,  4.12121016e-01,  9.69713539e-01,\n",
       "        8.83476879e-01, -1.65948615e+00, -1.37555432e+00,  5.56471828e-01,\n",
       "        5.36415387e-01, -2.21859879e-01,  8.89548605e-01, -9.94087898e-02,\n",
       "        2.46569718e-01,  6.45336908e-01, -2.49166184e+00, -2.81272319e-01,\n",
       "       -1.90968814e-01, -1.48326841e-01,  2.05435286e+00, -1.74389749e+00,\n",
       "        1.35199025e+00,  6.72690062e-01,  1.36694373e+00,  1.02024486e-01,\n",
       "       -4.58110644e-01,  2.45840843e+00, -3.39440190e-01,  1.25658851e+00,\n",
       "       -1.98817140e-01, -3.62539049e-01,  6.03259628e-01,  5.11640898e-01,\n",
       "        5.40636513e-01, -4.78517320e-01, -3.92524779e-01,  3.87661615e-01,\n",
       "        8.18050471e-01,  1.89113348e-01, -6.19212361e-01, -4.62951450e-01,\n",
       "       -1.30198256e+00,  1.12709036e+00,  1.21142573e+00,  7.73799015e-01,\n",
       "        7.66172632e-01, -1.33613956e+00,  1.57991214e-01,  5.75359484e-01,\n",
       "       -3.62361984e-02,  1.08960807e+00, -6.63873029e-02, -1.01913036e+00,\n",
       "       -1.24230168e+00, -1.53921913e-01,  1.82287585e-01,  1.11489480e+00,\n",
       "        1.94773851e-01,  5.44699169e-01, -7.02496912e-01,  1.85844134e-01,\n",
       "       -1.03394171e+00, -7.00729550e-01, -1.11195140e-01,  1.12710158e-01,\n",
       "        1.17775000e+00,  3.95274903e-01, -6.06876165e-01, -1.81244587e+00,\n",
       "       -9.03954562e-01,  4.16741930e-01,  3.95187975e-01, -1.97898584e+00,\n",
       "        4.35484918e-01,  6.86940094e-01, -5.68762654e-01, -1.77375424e+00,\n",
       "        2.33211698e-01,  5.79581087e-01, -5.99931498e-01, -4.19370012e-01,\n",
       "        1.05045253e-01,  8.90919935e-01, -1.08250255e+00,  5.91033389e-01,\n",
       "       -1.09366570e-01,  1.29602115e-01, -6.38368870e-03, -1.07678038e+00,\n",
       "        7.47379784e-01,  6.83722758e-01,  5.22124773e-01, -5.96882643e-01,\n",
       "        8.54288847e-01, -1.18124512e+00,  3.67968909e-01,  3.93021417e-02,\n",
       "       -3.94881598e-02, -4.69629974e-01, -3.02611134e-01,  1.21078215e+00,\n",
       "       -8.64451968e-01, -1.13426415e+00,  3.35201666e-01, -1.67723627e+00,\n",
       "        1.23475361e+00, -6.40825342e-01,  1.56110423e+00, -6.07078649e-01,\n",
       "       -5.53600935e-01, -1.06916897e-01,  6.17222120e-01,  1.62974376e+00,\n",
       "        1.38862936e+00, -2.70581384e-01,  6.62132145e-01, -9.96509096e-01,\n",
       "       -8.49704750e-01, -9.07963934e-02,  2.07028980e-01,  9.89945246e-01,\n",
       "       -2.39579348e+00,  7.54634950e-01,  7.28613246e-01, -6.23391802e-01,\n",
       "       -7.41409390e-02, -3.05083695e-01, -4.05511245e-01, -6.26867573e-01,\n",
       "        4.06271971e-01, -2.65830061e-01, -3.11252599e-01,  9.42299566e-01,\n",
       "        1.57957673e+00,  5.83272045e-01, -3.09724002e+00, -1.52913912e+00,\n",
       "        6.49657341e-01, -1.40775442e+00, -4.70411047e-02,  1.58607009e+00,\n",
       "        2.33898499e-01,  1.37773867e+00,  4.63318479e-01,  4.70974464e-02,\n",
       "       -3.83456520e-01,  1.80037256e+00, -7.34976275e-02, -4.19035672e-01,\n",
       "        2.47422547e-01, -5.01410475e-01,  2.01192761e-01, -1.11007275e+00,\n",
       "       -2.22260317e+00,  6.02606855e-01, -5.26087286e-01,  3.20545971e-01,\n",
       "        1.48703217e+00, -5.56397380e-01,  6.83235971e-01,  4.16103541e-01,\n",
       "        6.08530541e-01,  4.31208685e-01, -9.68481411e-01, -5.27140632e-01,\n",
       "        1.78844159e+00,  2.27906816e-02,  1.83381728e+00,  7.24269747e-01,\n",
       "       -1.01884804e+00,  5.34037465e-01,  5.83311355e-01,  2.07316306e-01,\n",
       "        6.59049032e-01, -3.45475149e-01,  1.20261237e+00,  1.14158044e+00,\n",
       "        1.88883078e+00,  5.42497930e-01,  3.99791773e-01,  5.65517270e-01,\n",
       "       -9.62422595e-01,  1.05452213e-02,  1.44042826e-01, -5.56646911e-01,\n",
       "       -6.90796411e-02,  8.25423750e-01, -1.93865451e+00, -1.26663112e+00,\n",
       "        1.05102010e+00, -8.83372910e-01, -2.49730894e-01, -1.16139989e+00,\n",
       "        7.82761608e-01, -3.77649968e-01, -9.40892049e-01,  6.97623831e-01,\n",
       "       -2.12964626e-01,  5.02586804e-01,  6.02448464e-01,  1.33918498e-02,\n",
       "       -6.16718047e-01, -4.40335793e-01, -1.54077237e+00, -4.36856478e-01,\n",
       "        7.43486370e-01,  1.78062651e+00, -1.73575270e-01, -7.69722120e-01,\n",
       "        8.42363708e-01, -4.76120993e-01,  4.45952009e-01,  5.69658569e-01,\n",
       "       -5.96073931e-01,  4.51935266e-01, -4.99097413e-02,  1.68698090e-01,\n",
       "       -6.31167302e-01,  1.61968075e-01, -2.66933603e-01,  4.07780048e-01,\n",
       "        4.82776985e-01,  4.72787418e-01, -1.25100245e+00, -7.75323290e-01,\n",
       "        8.35266388e-02,  2.09627027e+00,  8.11230550e-01, -1.70503095e-01,\n",
       "       -9.57814076e-01,  6.34859896e-01, -4.64122688e-01, -3.06635121e-01,\n",
       "       -2.44305463e-01,  7.14866555e-01,  4.10729024e-01, -2.75116780e-01,\n",
       "       -1.36677511e+00,  1.17268563e+00, -7.39878832e-01, -1.74386194e+00,\n",
       "       -2.43620209e-01,  4.53472484e-01, -3.21965816e+00,  1.14250163e+00,\n",
       "       -6.76025798e-01, -1.14804034e+00,  1.42101533e-01,  4.17840450e-01,\n",
       "       -3.64730989e-01,  8.87569682e-01,  2.85449670e-01, -9.14778710e-01,\n",
       "        5.05119197e-01, -9.94282333e-01,  7.77981466e-01,  1.83067404e-02,\n",
       "       -6.00268103e-01, -6.90370245e-02,  7.84129475e-03, -8.79432773e-02,\n",
       "        5.96624163e-01,  6.12849548e-01, -1.55195199e-01,  1.05769565e+00,\n",
       "        6.94685016e-01,  4.41208860e-01, -9.62149072e-01, -6.82364536e-01,\n",
       "       -9.91031257e-01, -7.16419840e-01, -7.57553435e-01,  3.51605907e-01,\n",
       "        2.77216348e-01, -8.39190828e-01,  3.92285420e-01,  1.67746752e+00,\n",
       "       -2.27993967e-01,  6.63636020e-01, -1.24740551e+00,  1.60068706e+00,\n",
       "        1.21682527e+00,  1.89625102e+00, -8.10568966e-03,  1.94992710e-01,\n",
       "       -1.41259277e+00,  2.46718421e-01, -1.39987704e+00, -9.73706473e-01,\n",
       "        1.21117333e+00,  1.33668064e-01, -5.69488586e-02, -9.34686964e-01,\n",
       "       -8.93717282e-01,  1.18843526e-01,  1.11963451e+00, -1.26170269e+00,\n",
       "       -1.11759000e+00,  1.00159938e+00, -1.23234591e+00,  2.05630744e-01,\n",
       "        1.47871878e+00,  4.62677050e-01, -7.35739316e-01, -1.36426745e+00,\n",
       "        1.20607226e-01,  5.69429108e-01,  6.36174088e-01,  3.35454813e+00,\n",
       "        9.53639989e-01, -3.70175048e-01, -9.94784083e-01,  1.01712872e-01,\n",
       "       -1.10753074e+00, -9.82014347e-02,  8.72118744e-01, -1.22060360e+00,\n",
       "        7.92032793e-01,  2.79979083e-01,  3.26804365e-01, -1.42803845e+00,\n",
       "        1.08736315e+00, -1.16248110e+00,  8.47181017e-01,  4.80163716e-01,\n",
       "        6.41558031e-01,  2.63599032e+00,  1.24594365e-01, -2.01537919e+00,\n",
       "        6.69591248e-01, -1.60129078e+00, -5.96878714e-02,  5.78922109e-01,\n",
       "        6.88476741e-01,  3.51777949e-02, -7.18946710e-01,  1.06297824e-01,\n",
       "       -2.92283665e-01, -7.23748326e-01, -1.25150168e-01,  1.22984272e+00,\n",
       "        2.60626187e+00,  1.38316311e+00, -1.46802600e+00,  1.44330496e+00,\n",
       "       -7.78927187e-01, -1.43713249e-01,  4.25261417e-01, -9.06453157e-01,\n",
       "        1.00067069e+00, -2.07779132e-01,  1.11493300e+00, -1.77834955e-01,\n",
       "        5.82770929e-02, -1.47102855e+00,  1.08270319e+00,  9.40205032e-01,\n",
       "       -1.29571092e+00,  2.55756871e-01, -7.82642666e-01,  7.32110057e-01,\n",
       "        1.05381525e+00,  4.06980006e-01, -1.17860918e+00, -4.66053630e-01,\n",
       "        1.17723001e+00, -5.23639821e-01, -4.49983344e-01, -1.85224930e+00,\n",
       "        1.87278397e-01,  1.54744128e+00,  4.04701873e-01,  1.09254126e+00,\n",
       "        7.25705278e-01,  1.10369249e-01,  1.34659576e+00, -3.22049444e-01,\n",
       "       -5.32455824e-01, -7.29426533e-01,  1.35716068e-01,  4.29820438e-01,\n",
       "       -8.71691057e-01,  8.19560947e-01,  1.49358500e+00,  4.26236301e-01,\n",
       "       -6.50174586e-01, -6.28917202e-01, -6.04007561e-02, -1.37071598e+00,\n",
       "       -8.03311230e-01, -2.12868957e-01,  4.26425927e-01, -3.56284000e+00,\n",
       "        1.42998299e+00, -1.56356166e+00, -7.49167413e-01, -1.70764163e+00,\n",
       "        5.45342996e-01, -1.08911843e+00,  4.47439548e-01, -1.39386681e+00,\n",
       "       -2.81998669e-01,  1.02388594e+00, -1.77446445e+00, -1.79814173e-01,\n",
       "       -2.05226741e+00, -5.00906321e-01, -2.06471862e-01,  1.24648167e-01,\n",
       "       -4.82496659e-01,  2.28580431e-01, -9.21340770e-01, -9.38914144e-02,\n",
       "       -7.16646048e-01,  2.91348270e-01,  4.87908761e-01,  7.40354719e-01,\n",
       "       -1.62939471e-02, -3.23821903e-01,  5.08883582e-01, -1.68963615e+00,\n",
       "        1.33072323e+00,  2.07459460e+00,  2.82149845e-01,  8.86239881e-01,\n",
       "       -9.08497919e-01,  4.31595509e-01, -3.96256168e-01, -7.31257727e-02,\n",
       "       -4.93181812e-01,  1.99258701e-01, -1.95824367e-01, -1.25172359e+00,\n",
       "       -5.56397444e-01, -8.12146415e-02,  1.29843228e-01,  8.45065586e-01,\n",
       "        4.91505114e-01,  1.31275905e+00, -2.89898290e+00,  1.01693682e+00,\n",
       "        1.77403579e-01, -4.12082593e-01, -6.87807548e-01, -1.57266480e-01,\n",
       "        3.33929897e-02,  1.04598643e+00, -5.34631909e-02, -1.76541934e+00,\n",
       "       -1.64620761e-01,  3.11940836e-01, -8.93139490e-01,  1.19988362e-01,\n",
       "       -1.59216087e-01, -1.60557278e+00,  2.66334498e-01, -7.97059725e-01,\n",
       "       -1.16905937e-01,  3.71619830e-01, -1.13405218e+00,  5.12521991e-01,\n",
       "       -2.09812772e+00, -1.51845094e+00, -1.84190334e+00, -4.19706622e-01,\n",
       "       -5.40294988e-01, -1.57196312e-01,  6.90966499e-01,  5.32610607e-01,\n",
       "        1.04192642e+00,  1.51854442e+00, -1.51593756e-02, -8.15279334e-01,\n",
       "       -8.73576402e-02, -3.46700640e-02,  7.57827202e-01, -6.73265510e-01,\n",
       "        6.49323061e-01, -2.08348409e+00,  8.02664809e-01,  1.36438089e+00,\n",
       "        7.62814265e-01, -4.32002597e-01,  1.11837838e-01,  6.83189536e-01,\n",
       "        1.43152202e+00, -2.00835475e-01,  1.71861405e-01, -5.39995778e-01,\n",
       "       -8.04443042e-01, -2.58588263e-02, -1.66848551e+00, -1.95096715e+00,\n",
       "        6.97998158e-01,  8.97969504e-01, -1.48916291e-01, -1.20848002e+00,\n",
       "        6.32354160e-01, -2.64807080e-01, -1.49316758e+00, -5.69407137e-01,\n",
       "        1.12256134e+00, -8.35498668e-01, -2.09083787e-01, -2.12125959e-01,\n",
       "       -1.19235942e+00, -1.63584271e+00, -3.46338903e-01, -5.73830310e-01,\n",
       "        3.92269286e-02,  1.93411552e-02, -8.71269210e-01,  4.71803266e-01,\n",
       "       -1.37634194e+00,  1.31541587e+00, -4.47934618e-01,  3.10917083e-03,\n",
       "       -9.99520041e-01,  2.53722746e-01, -1.62607802e+00,  1.28191104e+00,\n",
       "        1.41659941e+00,  1.73268955e+00,  6.05652893e-01, -2.59262535e-01,\n",
       "       -6.75018562e-01, -3.91624560e-01, -3.40019081e-01,  1.12048000e+00,\n",
       "       -5.55473141e-03,  4.22744655e-01, -6.37470233e-01,  9.16942081e-01,\n",
       "       -1.07129701e-01, -2.11343800e-02,  8.75849257e-01, -3.61921786e-01,\n",
       "        3.08323966e-01, -1.05899368e+00,  3.12773805e-01,  1.02811556e+00,\n",
       "        2.09073516e-01,  1.47375725e+00, -4.46015124e-01,  7.67569993e-01,\n",
       "       -1.52209892e-01,  5.88197027e-01, -2.09049604e+00, -1.91397630e+00,\n",
       "       -1.25044556e+00, -8.26919629e-01, -4.62461439e-01, -2.06675941e-01,\n",
       "       -1.95916050e+00,  6.25839211e-01,  1.00547138e+00,  5.12991005e-01,\n",
       "       -4.04510011e-01,  2.18564907e-01,  6.92845295e-01,  1.25314140e-01,\n",
       "       -6.65458140e-03,  8.54428561e-01, -7.33094285e-02,  8.40961776e-01,\n",
       "        4.74022399e-01,  1.30398453e+00, -6.51117124e-01, -5.94364252e-01,\n",
       "        1.46590717e+00, -7.57399642e-02, -7.56244711e-02,  8.27038859e-01,\n",
       "       -1.52794696e+00, -7.71436316e-01, -2.85037391e-01, -1.05532672e+00,\n",
       "        1.19715357e-01,  1.24308717e+00, -9.51632448e-02,  2.70101825e-01,\n",
       "        7.16561370e-01,  3.93060946e-01,  1.74616910e-01, -1.20591048e+00,\n",
       "       -3.03388679e-02,  2.48437576e-01,  1.02414827e-01, -7.35991862e-02,\n",
       "       -1.70237451e-01, -2.15566390e+00,  6.25003913e-01,  1.82478853e-01,\n",
       "        1.02756226e+00,  6.06866482e-01,  2.10279615e+00, -1.18171808e+00,\n",
       "        9.45872248e-03,  3.86893871e-01, -6.91746066e-01,  1.59314672e+00,\n",
       "       -9.79340384e-01, -1.84474317e+00,  1.89809951e+00, -9.37173371e-01,\n",
       "        9.36798831e-01,  3.40428782e-01,  1.66493677e-01, -1.39725364e-01,\n",
       "        1.12660113e+00, -9.20886782e-01,  2.11138687e+00,  2.37094045e+00,\n",
       "        1.53641454e+00,  1.06073597e+00, -1.62240371e-01, -9.97413967e-01,\n",
       "        1.74055543e+00, -2.78754155e+00,  1.39443809e+00, -5.87627467e-01,\n",
       "        7.49593154e-01,  6.91445393e-01,  1.67147756e-01,  8.89505741e-01,\n",
       "       -1.60297005e+00,  5.50281059e-01, -1.20607399e+00,  6.59195398e-01,\n",
       "       -4.95592826e-01,  1.60056765e-01, -1.43920295e+00,  9.51179113e-01,\n",
       "        1.12429578e+00,  8.08095906e-01, -3.98851166e-01,  9.00350984e-01,\n",
       "        1.33621873e+00, -2.05482084e+00,  6.84159977e-01, -1.28394478e-01,\n",
       "       -2.78231113e-02, -1.60097820e+00, -9.06529116e-01, -7.71407176e-01,\n",
       "        7.84899286e-01, -4.72786739e-01, -1.09172325e+00,  2.46582229e+00,\n",
       "       -6.44270804e-01, -4.88008828e-01,  1.11121457e-01,  7.07283775e-01,\n",
       "        2.77377361e-01, -1.56210347e+00,  1.16609419e+00,  2.77964698e-01,\n",
       "       -6.71472264e-01,  9.31776327e-01, -5.64853683e-01, -1.76465985e+00,\n",
       "       -7.55588316e-01,  3.11858774e-01, -1.02442010e+00,  8.18090594e-02,\n",
       "       -3.51315875e-01,  3.05124939e-01, -3.73852106e-01, -9.27467739e-01,\n",
       "       -2.75204835e-01, -3.96029883e-01, -6.94579386e-01, -1.31603514e+00,\n",
       "       -5.11459336e-01,  2.39449699e-02,  1.19755130e+00,  1.94909209e-02,\n",
       "        2.08245380e+00,  2.44774231e-01, -1.06125595e+00, -3.31568845e-01,\n",
       "        4.64288033e-01, -8.01271020e-01, -2.59242936e+00, -4.23835195e-01,\n",
       "       -1.41998823e+00,  4.19690937e-01, -1.04198544e+00,  3.55619006e-01,\n",
       "        8.50441890e-01,  1.06520593e+00, -9.29738840e-01,  1.31462787e+00])"
      ]
     },
     "execution_count": 23,
     "metadata": {},
     "output_type": "execute_result"
    }
   ],
   "source": [
    "dados_normal = skewnorm.rvs(a = 0, size = 1000)\n",
    "dados_normal"
   ]
  },
  {
   "cell_type": "code",
   "execution_count": 24,
   "id": "08e5853e",
   "metadata": {
    "ExecuteTime": {
     "end_time": "2022-07-27T00:57:20.322277Z",
     "start_time": "2022-07-27T00:57:19.982438Z"
    }
   },
   "outputs": [
    {
     "data": {
      "text/plain": [
       "<AxesSubplot:ylabel='Count'>"
      ]
     },
     "execution_count": 24,
     "metadata": {},
     "output_type": "execute_result"
    },
    {
     "data": {
      "image/png": "[encoded data removed]",
      "text/plain": [
       "<Figure size 432x288 with 1 Axes>"
      ]
     },
     "metadata": {
      "needs_background": "light"
     },
     "output_type": "display_data"
    }
   ],
   "source": [
    "sns.histplot(dados_normal)"
   ]
  },
  {
   "cell_type": "code",
   "execution_count": 25,
   "id": "a62d69aa",
   "metadata": {
    "ExecuteTime": {
     "end_time": "2022-07-27T00:57:42.854594Z",
     "start_time": "2022-07-27T00:57:42.840111Z"
    }
   },
   "outputs": [
    {
     "data": {
      "text/plain": [
       "(-0.01108609055191437,\n",
       " -0.0059692100534954546,\n",
       " ModeResult(mode=array([-3.56284]), count=array([1])))"
      ]
     },
     "execution_count": 25,
     "metadata": {},
     "output_type": "execute_result"
    }
   ],
   "source": [
    "dados_normal.mean(), np.median(dados_normal), stats.mode(dados_normal)"
   ]
  },
  {
   "cell_type": "code",
   "execution_count": 29,
   "id": "4b4eee9c",
   "metadata": {
    "ExecuteTime": {
     "end_time": "2022-07-27T00:59:33.607787Z",
     "start_time": "2022-07-27T00:59:33.286245Z"
    }
   },
   "outputs": [
    {
     "data": {
      "text/plain": [
       "<AxesSubplot:ylabel='Count'>"
      ]
     },
     "execution_count": 29,
     "metadata": {},
     "output_type": "execute_result"
    },
    {
     "data": {
      "image/png": "[encoded data removed]",
      "text/plain": [
       "<Figure size 432x288 with 1 Axes>"
      ]
     },
     "metadata": {
      "needs_background": "light"
     },
     "output_type": "display_data"
    }
   ],
   "source": [
    "# enviesamento positivo\n",
    "positive_skew = skewnorm.rvs(a = 10, size = 1000)\n",
    "sns.histplot(positive_skew, kde = True)"
   ]
  },
  {
   "cell_type": "code",
   "execution_count": 32,
   "id": "03f9b97d",
   "metadata": {
    "ExecuteTime": {
     "end_time": "2022-07-27T01:00:12.956415Z",
     "start_time": "2022-07-27T01:00:12.939238Z"
    }
   },
   "outputs": [
    {
     "data": {
      "text/plain": [
       "(0.8409099310653665,\n",
       " 0.7504589697337769,\n",
       " ModeResult(mode=array([-0.16548311]), count=array([1])))"
      ]
     },
     "execution_count": 32,
     "metadata": {},
     "output_type": "execute_result"
    }
   ],
   "source": [
    "positive_skew.mean(), np.median(positive_skew), stats.mode(positive_skew)"
   ]
  },
  {
   "cell_type": "code",
   "execution_count": 33,
   "id": "50166a48",
   "metadata": {
    "ExecuteTime": {
     "end_time": "2022-07-27T01:00:37.237345Z",
     "start_time": "2022-07-27T01:00:36.859142Z"
    }
   },
   "outputs": [
    {
     "data": {
      "text/plain": [
       "<AxesSubplot:ylabel='Count'>"
      ]
     },
     "execution_count": 33,
     "metadata": {},
     "output_type": "execute_result"
    },
    {
     "data": {
      "image/png": "[encoded data removed]",
      "text/plain": [
       "<Figure size 432x288 with 1 Axes>"
      ]
     },
     "metadata": {
      "needs_background": "light"
     },
     "output_type": "display_data"
    }
   ],
   "source": [
    "# enviesamento negativo\n",
    "negative_skew = skewnorm.rvs(a = -10, size = 1000)\n",
    "sns.histplot(negative_skew, kde = True)"
   ]
  },
  {
   "cell_type": "code",
   "execution_count": 34,
   "id": "bf9c2f02",
   "metadata": {
    "ExecuteTime": {
     "end_time": "2022-07-27T01:00:52.910181Z",
     "start_time": "2022-07-27T01:00:52.902434Z"
    }
   },
   "outputs": [
    {
     "data": {
      "text/plain": [
       "(-0.7903287558450766,\n",
       " -0.6924906982266781,\n",
       " ModeResult(mode=array([-2.86825709]), count=array([1])))"
      ]
     },
     "execution_count": 34,
     "metadata": {},
     "output_type": "execute_result"
    }
   ],
   "source": [
    "negative_skew.mean(), np.median(negative_skew), stats.mode(negative_skew)"
   ]
  },
  {
   "cell_type": "code",
   "execution_count": null,
   "id": "147dd709",
   "metadata": {},
   "outputs": [],
   "source": []
  }
 ],
 "metadata": {
  "kernelspec": {
   "display_name": "ds-projects",
   "language": "python",
   "name": "ds-projects"
  },
  "language_info": {
   "codemirror_mode": {
    "name": "ipython",
    "version": 3
   },
   "file_extension": ".py",
   "mimetype": "text/x-python",
   "name": "python",
   "nbconvert_exporter": "python",
   "pygments_lexer": "ipython3",
   "version": "3.9.7"
  },
  "toc": {
   "base_numbering": 1,
   "nav_menu": {},
   "number_sections": true,
   "sideBar": true,
   "skip_h1_title": false,
   "title_cell": "Table of Contents",
   "title_sidebar": "Contents",
   "toc_cell": false,
   "toc_position": {},
   "toc_section_display": true,
   "toc_window_display": false
  }
 },
 "nbformat": 4,
 "nbformat_minor": 5
}
